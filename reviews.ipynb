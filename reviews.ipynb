{
 "cells": [
  {
   "cell_type": "markdown",
   "id": "367f7369",
   "metadata": {},
   "source": [
    "## 1.1 Data libs"
   ]
  },
  {
   "cell_type": "code",
   "execution_count": 141,
   "id": "97d6102b",
   "metadata": {},
   "outputs": [],
   "source": [
    "import pandas as pd\n",
    "import numpy as np\n",
    "\n",
    "import matplotlib.pyplot as plt\n",
    "import matplotlib as mpl\n",
    "import seaborn as sns\n",
    "\n",
    "from datetime import datetime\n",
    "import locale\n",
    "\n",
    "\n",
    "from wordcloud import WordCloud, STOPWORDS\n",
    "import string\n",
    "import re\n",
    "import nltk\n",
    "import string\n",
    "from tqdm import trange\n",
    "from nltk import tokenize\n",
    "from nltk.corpus import stopwords\n",
    "from nltk.stem import WordNetLemmatizer\n",
    "from nltk.probability import FreqDist\n",
    "from collections import Counter\n",
    "from sklearn.feature_extraction.text import CountVectorizer"
   ]
  },
  {
   "cell_type": "code",
   "execution_count": 142,
   "id": "f41fadfe",
   "metadata": {},
   "outputs": [],
   "source": [
    "reviews_path = r\"C:\\Users\\ASUS\\Desktop\\AppliedNLP\\1_lab\\data\\reviews.csv\""
   ]
  },
  {
   "cell_type": "code",
   "execution_count": 143,
   "id": "1c74be4e",
   "metadata": {},
   "outputs": [],
   "source": [
    "df = pd.read_csv(reviews_path)"
   ]
  },
  {
   "cell_type": "code",
   "execution_count": 144,
   "id": "6ca8de83",
   "metadata": {},
   "outputs": [
    {
     "data": {
      "text/plain": [
       "(1750, 4)"
      ]
     },
     "execution_count": 144,
     "metadata": {},
     "output_type": "execute_result"
    }
   ],
   "source": [
    "df.shape"
   ]
  },
  {
   "cell_type": "code",
   "execution_count": 145,
   "id": "3d25f601",
   "metadata": {},
   "outputs": [
    {
     "name": "stdout",
     "output_type": "stream",
     "text": [
      "<class 'pandas.core.frame.DataFrame'>\n",
      "RangeIndex: 1750 entries, 0 to 1749\n",
      "Data columns (total 4 columns):\n",
      " #   Column       Non-Null Count  Dtype \n",
      "---  ------       --------------  ----- \n",
      " 0   author       1750 non-null   object\n",
      " 1   rating       1750 non-null   int64 \n",
      " 2   date         1750 non-null   object\n",
      " 3   review_text  1750 non-null   object\n",
      "dtypes: int64(1), object(3)\n",
      "memory usage: 54.8+ KB\n"
     ]
    }
   ],
   "source": [
    "df.info()"
   ]
  },
  {
   "cell_type": "code",
   "execution_count": 146,
   "id": "f4841b2a",
   "metadata": {},
   "outputs": [
    {
     "data": {
      "text/plain": [
       "author         0\n",
       "rating         0\n",
       "date           0\n",
       "review_text    0\n",
       "dtype: int64"
      ]
     },
     "execution_count": 146,
     "metadata": {},
     "output_type": "execute_result"
    }
   ],
   "source": [
    "df.isna().sum()"
   ]
  },
  {
   "cell_type": "code",
   "execution_count": 147,
   "id": "7e1cac85",
   "metadata": {},
   "outputs": [
    {
     "data": {
      "text/html": [
       "<div>\n",
       "<style scoped>\n",
       "    .dataframe tbody tr th:only-of-type {\n",
       "        vertical-align: middle;\n",
       "    }\n",
       "\n",
       "    .dataframe tbody tr th {\n",
       "        vertical-align: top;\n",
       "    }\n",
       "\n",
       "    .dataframe thead th {\n",
       "        text-align: right;\n",
       "    }\n",
       "</style>\n",
       "<table border=\"1\" class=\"dataframe\">\n",
       "  <thead>\n",
       "    <tr style=\"text-align: right;\">\n",
       "      <th></th>\n",
       "      <th>author</th>\n",
       "      <th>rating</th>\n",
       "      <th>date</th>\n",
       "      <th>review_text</th>\n",
       "    </tr>\n",
       "  </thead>\n",
       "  <tbody>\n",
       "    <tr>\n",
       "      <th>0</th>\n",
       "      <td>Alish Khabiyev</td>\n",
       "      <td>5</td>\n",
       "      <td>12 апреля 2025</td>\n",
       "      <td>👍</td>\n",
       "    </tr>\n",
       "    <tr>\n",
       "      <th>1</th>\n",
       "      <td>Radmir Asimzhanov</td>\n",
       "      <td>5</td>\n",
       "      <td>сегодня, отредактирован</td>\n",
       "      <td>Админ Акрам отлично помог 👍🏻</td>\n",
       "    </tr>\n",
       "    <tr>\n",
       "      <th>2</th>\n",
       "      <td>Балжан Мелс</td>\n",
       "      <td>5</td>\n",
       "      <td>сегодня</td>\n",
       "      <td>Хочу выразить благодарность замечательной офиц...</td>\n",
       "    </tr>\n",
       "    <tr>\n",
       "      <th>3</th>\n",
       "      <td>Анара Сейдалиева</td>\n",
       "      <td>5</td>\n",
       "      <td>сегодня</td>\n",
       "      <td>Бизге барлыгы унады ыстык тамактары корсеткен ...</td>\n",
       "    </tr>\n",
       "    <tr>\n",
       "      <th>4</th>\n",
       "      <td>Raushan Uaisova</td>\n",
       "      <td>5</td>\n",
       "      <td>сегодня</td>\n",
       "      <td>Очень нравится именно этот филиал Шефрана. Вку...</td>\n",
       "    </tr>\n",
       "  </tbody>\n",
       "</table>\n",
       "</div>"
      ],
      "text/plain": [
       "              author  rating                     date  \\\n",
       "0     Alish Khabiyev       5           12 апреля 2025   \n",
       "1  Radmir Asimzhanov       5  сегодня, отредактирован   \n",
       "2        Балжан Мелс       5                  сегодня   \n",
       "3   Анара Сейдалиева       5                  сегодня   \n",
       "4    Raushan Uaisova       5                  сегодня   \n",
       "\n",
       "                                         review_text  \n",
       "0                                                  👍  \n",
       "1                       Админ Акрам отлично помог 👍🏻  \n",
       "2  Хочу выразить благодарность замечательной офиц...  \n",
       "3  Бизге барлыгы унады ыстык тамактары корсеткен ...  \n",
       "4  Очень нравится именно этот филиал Шефрана. Вку...  "
      ]
     },
     "execution_count": 147,
     "metadata": {},
     "output_type": "execute_result"
    }
   ],
   "source": [
    "df.head()"
   ]
  },
  {
   "cell_type": "markdown",
   "id": "0e9f874e",
   "metadata": {},
   "source": [
    "## 1.2 Data Preparation"
   ]
  },
  {
   "cell_type": "markdown",
   "id": "57361558",
   "metadata": {},
   "source": [
    "### 1.2.1 Convert date column into normal format"
   ]
  },
  {
   "cell_type": "code",
   "execution_count": 148,
   "id": "91e5882d",
   "metadata": {},
   "outputs": [
    {
     "data": {
      "text/html": [
       "<div>\n",
       "<style scoped>\n",
       "    .dataframe tbody tr th:only-of-type {\n",
       "        vertical-align: middle;\n",
       "    }\n",
       "\n",
       "    .dataframe tbody tr th {\n",
       "        vertical-align: top;\n",
       "    }\n",
       "\n",
       "    .dataframe thead th {\n",
       "        text-align: right;\n",
       "    }\n",
       "</style>\n",
       "<table border=\"1\" class=\"dataframe\">\n",
       "  <thead>\n",
       "    <tr style=\"text-align: right;\">\n",
       "      <th></th>\n",
       "      <th>author</th>\n",
       "      <th>rating</th>\n",
       "      <th>date</th>\n",
       "      <th>review_text</th>\n",
       "    </tr>\n",
       "  </thead>\n",
       "  <tbody>\n",
       "    <tr>\n",
       "      <th>0</th>\n",
       "      <td>Alish Khabiyev</td>\n",
       "      <td>5</td>\n",
       "      <td>12 апреля 2025</td>\n",
       "      <td>👍</td>\n",
       "    </tr>\n",
       "    <tr>\n",
       "      <th>1</th>\n",
       "      <td>Radmir Asimzhanov</td>\n",
       "      <td>5</td>\n",
       "      <td>2025-04-13</td>\n",
       "      <td>Админ Акрам отлично помог 👍🏻</td>\n",
       "    </tr>\n",
       "    <tr>\n",
       "      <th>2</th>\n",
       "      <td>Балжан Мелс</td>\n",
       "      <td>5</td>\n",
       "      <td>2025-04-13</td>\n",
       "      <td>Хочу выразить благодарность замечательной офиц...</td>\n",
       "    </tr>\n",
       "    <tr>\n",
       "      <th>3</th>\n",
       "      <td>Анара Сейдалиева</td>\n",
       "      <td>5</td>\n",
       "      <td>2025-04-13</td>\n",
       "      <td>Бизге барлыгы унады ыстык тамактары корсеткен ...</td>\n",
       "    </tr>\n",
       "    <tr>\n",
       "      <th>4</th>\n",
       "      <td>Raushan Uaisova</td>\n",
       "      <td>5</td>\n",
       "      <td>2025-04-13</td>\n",
       "      <td>Очень нравится именно этот филиал Шефрана. Вку...</td>\n",
       "    </tr>\n",
       "  </tbody>\n",
       "</table>\n",
       "</div>"
      ],
      "text/plain": [
       "              author  rating            date  \\\n",
       "0     Alish Khabiyev       5  12 апреля 2025   \n",
       "1  Radmir Asimzhanov       5      2025-04-13   \n",
       "2        Балжан Мелс       5      2025-04-13   \n",
       "3   Анара Сейдалиева       5      2025-04-13   \n",
       "4    Raushan Uaisova       5      2025-04-13   \n",
       "\n",
       "                                         review_text  \n",
       "0                                                  👍  \n",
       "1                       Админ Акрам отлично помог 👍🏻  \n",
       "2  Хочу выразить благодарность замечательной офиц...  \n",
       "3  Бизге барлыгы унады ыстык тамактары корсеткен ...  \n",
       "4  Очень нравится именно этот филиал Шефрана. Вку...  "
      ]
     },
     "execution_count": 148,
     "metadata": {},
     "output_type": "execute_result"
    }
   ],
   "source": [
    "locale.setlocale(locale.LC_TIME, 'ru_RU.UTF-8')\n",
    "\n",
    "def normalize_date(date_str):\n",
    "    # Handle \"сегодня\" and \"отредактирован\" cases\n",
    "    if str(date_str).strip() == 'сегодня' or 'отредактирован' in str(date_str):\n",
    "        return datetime.now().strftime('%Y-%m-%d')\n",
    "    \n",
    "    # Handle Russian date format (e.g., \"12 апреля 2025\")\n",
    "    try:\n",
    "        # Remove any extra whitespace\n",
    "        date_str = str(date_str).strip()\n",
    "        # Parse Russian date format\n",
    "        date_obj = datetime.strptime(date_str, '%d %B %Y')\n",
    "        return date_obj.strftime('%Y-%m-%d')\n",
    "    except ValueError:\n",
    "        # If the date is already in YYYY-MM-DD format, return as is\n",
    "        try:\n",
    "            datetime.strptime(str(date_str).strip(), '%Y-%m-%d')\n",
    "            return date_str\n",
    "        except ValueError:\n",
    "            # If we can't parse the date, return the original string\n",
    "            return date_str\n",
    "\n",
    "# Convert the date column to datetime type\n",
    "df['date'] = df['date'].apply(normalize_date)\n",
    "\n",
    "\n",
    "df.head()\n"
   ]
  },
  {
   "cell_type": "code",
   "execution_count": 149,
   "id": "38750af1",
   "metadata": {},
   "outputs": [
    {
     "name": "stdout",
     "output_type": "stream",
     "text": [
      "05 3 2015\n",
      "2015-03-05 00:00:00\n"
     ]
    },
    {
     "data": {
      "text/html": [
       "<div>\n",
       "<style scoped>\n",
       "    .dataframe tbody tr th:only-of-type {\n",
       "        vertical-align: middle;\n",
       "    }\n",
       "\n",
       "    .dataframe tbody tr th {\n",
       "        vertical-align: top;\n",
       "    }\n",
       "\n",
       "    .dataframe thead th {\n",
       "        text-align: right;\n",
       "    }\n",
       "</style>\n",
       "<table border=\"1\" class=\"dataframe\">\n",
       "  <thead>\n",
       "    <tr style=\"text-align: right;\">\n",
       "      <th></th>\n",
       "      <th>author</th>\n",
       "      <th>rating</th>\n",
       "      <th>date</th>\n",
       "      <th>review_text</th>\n",
       "      <th>date_new</th>\n",
       "    </tr>\n",
       "  </thead>\n",
       "  <tbody>\n",
       "    <tr>\n",
       "      <th>0</th>\n",
       "      <td>Alish Khabiyev</td>\n",
       "      <td>5</td>\n",
       "      <td>12 апреля 2025</td>\n",
       "      <td>👍</td>\n",
       "      <td>12 4 2025</td>\n",
       "    </tr>\n",
       "    <tr>\n",
       "      <th>1</th>\n",
       "      <td>Radmir Asimzhanov</td>\n",
       "      <td>5</td>\n",
       "      <td>2025-04-13</td>\n",
       "      <td>Админ Акрам отлично помог 👍🏻</td>\n",
       "      <td>2025-04-13</td>\n",
       "    </tr>\n",
       "    <tr>\n",
       "      <th>2</th>\n",
       "      <td>Балжан Мелс</td>\n",
       "      <td>5</td>\n",
       "      <td>2025-04-13</td>\n",
       "      <td>Хочу выразить благодарность замечательной офиц...</td>\n",
       "      <td>2025-04-13</td>\n",
       "    </tr>\n",
       "    <tr>\n",
       "      <th>3</th>\n",
       "      <td>Анара Сейдалиева</td>\n",
       "      <td>5</td>\n",
       "      <td>2025-04-13</td>\n",
       "      <td>Бизге барлыгы унады ыстык тамактары корсеткен ...</td>\n",
       "      <td>2025-04-13</td>\n",
       "    </tr>\n",
       "    <tr>\n",
       "      <th>4</th>\n",
       "      <td>Raushan Uaisova</td>\n",
       "      <td>5</td>\n",
       "      <td>2025-04-13</td>\n",
       "      <td>Очень нравится именно этот филиал Шефрана. Вку...</td>\n",
       "      <td>2025-04-13</td>\n",
       "    </tr>\n",
       "  </tbody>\n",
       "</table>\n",
       "</div>"
      ],
      "text/plain": [
       "              author  rating            date  \\\n",
       "0     Alish Khabiyev       5  12 апреля 2025   \n",
       "1  Radmir Asimzhanov       5      2025-04-13   \n",
       "2        Балжан Мелс       5      2025-04-13   \n",
       "3   Анара Сейдалиева       5      2025-04-13   \n",
       "4    Raushan Uaisova       5      2025-04-13   \n",
       "\n",
       "                                         review_text    date_new  \n",
       "0                                                  👍   12 4 2025  \n",
       "1                       Админ Акрам отлично помог 👍🏻  2025-04-13  \n",
       "2  Хочу выразить благодарность замечательной офиц...  2025-04-13  \n",
       "3  Бизге барлыгы унады ыстык тамактары корсеткен ...  2025-04-13  \n",
       "4  Очень нравится именно этот филиал Шефрана. Вку...  2025-04-13  "
      ]
     },
     "execution_count": 149,
     "metadata": {},
     "output_type": "execute_result"
    }
   ],
   "source": [
    "from datetime import datetime\n",
    "\n",
    "RU_MONTH_VALUES = {\n",
    "    'января': 1,\n",
    "    'февраля': 2,\n",
    "    'марта': 3,\n",
    "    'апреля': 4,\n",
    "    'мая': 5,\n",
    "    'июня': 6,\n",
    "    'июля': 7,\n",
    "    'августа': 8,\n",
    "    'сентября': 9,\n",
    "    'октября': 10,\n",
    "    'ноября': 11,\n",
    "    'декабря': 12,\n",
    "}\n",
    "\n",
    "\n",
    "def int_value_from_ru_month(date_str):\n",
    "    for k, v in RU_MONTH_VALUES.items():\n",
    "        date_str = date_str.replace(k, str(v))\n",
    "\n",
    "    return date_str\n",
    "\n",
    "\n",
    "date_str = '05 марта 2015'\n",
    "date_str = int_value_from_ru_month(date_str)\n",
    "print(date_str)\n",
    "\n",
    "d = datetime.strptime(date_str, '%d %m %Y')\n",
    "print(d)\n",
    "\n",
    "df['date_new'] = df['date'].apply(int_value_from_ru_month)\n",
    "df.head()\n"
   ]
  },
  {
   "cell_type": "code",
   "execution_count": 150,
   "id": "cd87a4b1",
   "metadata": {},
   "outputs": [
    {
     "name": "stdout",
     "output_type": "stream",
     "text": [
      "2025-04-12\n"
     ]
    }
   ],
   "source": [
    "def convert_simple_date_to_standard(date_str):\n",
    "    \"\"\"\n",
    "    Convert date from format \"DD M YYYY\" to \"YYYY-MM-DD\"\n",
    "    Example: \"12 4 2025\" -> \"2025-04-12\"\n",
    "    \"\"\"\n",
    "    try:\n",
    "        # Split the date string into components\n",
    "        day, month, year = date_str.strip().split()\n",
    "        \n",
    "        # Convert to integers\n",
    "        day = int(day)\n",
    "        month = int(month)\n",
    "        year = int(year)\n",
    "        \n",
    "        # Create a datetime object\n",
    "        date_obj = datetime(year, month, day)\n",
    "        \n",
    "        # Format as YYYY-MM-DD\n",
    "        return date_obj.strftime('%Y-%m-%d')\n",
    "    except (ValueError, IndexError):\n",
    "        return date_str\n",
    "\n",
    "# Example usage\n",
    "date_str = '12 4 2025'\n",
    "standard_date = convert_simple_date_to_standard(date_str)   \n",
    "print(standard_date)  "
   ]
  },
  {
   "cell_type": "code",
   "execution_count": 151,
   "id": "49fd853a",
   "metadata": {},
   "outputs": [
    {
     "data": {
      "text/html": [
       "<div>\n",
       "<style scoped>\n",
       "    .dataframe tbody tr th:only-of-type {\n",
       "        vertical-align: middle;\n",
       "    }\n",
       "\n",
       "    .dataframe tbody tr th {\n",
       "        vertical-align: top;\n",
       "    }\n",
       "\n",
       "    .dataframe thead th {\n",
       "        text-align: right;\n",
       "    }\n",
       "</style>\n",
       "<table border=\"1\" class=\"dataframe\">\n",
       "  <thead>\n",
       "    <tr style=\"text-align: right;\">\n",
       "      <th></th>\n",
       "      <th>author</th>\n",
       "      <th>rating</th>\n",
       "      <th>date</th>\n",
       "      <th>review_text</th>\n",
       "      <th>date_new</th>\n",
       "    </tr>\n",
       "  </thead>\n",
       "  <tbody>\n",
       "    <tr>\n",
       "      <th>0</th>\n",
       "      <td>Alish Khabiyev</td>\n",
       "      <td>5</td>\n",
       "      <td>12 апреля 2025</td>\n",
       "      <td>👍</td>\n",
       "      <td>2025-04-12</td>\n",
       "    </tr>\n",
       "    <tr>\n",
       "      <th>1</th>\n",
       "      <td>Radmir Asimzhanov</td>\n",
       "      <td>5</td>\n",
       "      <td>2025-04-13</td>\n",
       "      <td>Админ Акрам отлично помог 👍🏻</td>\n",
       "      <td>2025-04-13</td>\n",
       "    </tr>\n",
       "    <tr>\n",
       "      <th>2</th>\n",
       "      <td>Балжан Мелс</td>\n",
       "      <td>5</td>\n",
       "      <td>2025-04-13</td>\n",
       "      <td>Хочу выразить благодарность замечательной офиц...</td>\n",
       "      <td>2025-04-13</td>\n",
       "    </tr>\n",
       "    <tr>\n",
       "      <th>3</th>\n",
       "      <td>Анара Сейдалиева</td>\n",
       "      <td>5</td>\n",
       "      <td>2025-04-13</td>\n",
       "      <td>Бизге барлыгы унады ыстык тамактары корсеткен ...</td>\n",
       "      <td>2025-04-13</td>\n",
       "    </tr>\n",
       "    <tr>\n",
       "      <th>4</th>\n",
       "      <td>Raushan Uaisova</td>\n",
       "      <td>5</td>\n",
       "      <td>2025-04-13</td>\n",
       "      <td>Очень нравится именно этот филиал Шефрана. Вку...</td>\n",
       "      <td>2025-04-13</td>\n",
       "    </tr>\n",
       "  </tbody>\n",
       "</table>\n",
       "</div>"
      ],
      "text/plain": [
       "              author  rating            date  \\\n",
       "0     Alish Khabiyev       5  12 апреля 2025   \n",
       "1  Radmir Asimzhanov       5      2025-04-13   \n",
       "2        Балжан Мелс       5      2025-04-13   \n",
       "3   Анара Сейдалиева       5      2025-04-13   \n",
       "4    Raushan Uaisova       5      2025-04-13   \n",
       "\n",
       "                                         review_text    date_new  \n",
       "0                                                  👍  2025-04-12  \n",
       "1                       Админ Акрам отлично помог 👍🏻  2025-04-13  \n",
       "2  Хочу выразить благодарность замечательной офиц...  2025-04-13  \n",
       "3  Бизге барлыгы унады ыстык тамактары корсеткен ...  2025-04-13  \n",
       "4  Очень нравится именно этот филиал Шефрана. Вку...  2025-04-13  "
      ]
     },
     "execution_count": 151,
     "metadata": {},
     "output_type": "execute_result"
    }
   ],
   "source": [
    "df[\"date_new\"] = df[\"date_new\"].apply(convert_simple_date_to_standard)\n",
    "df.head()"
   ]
  },
  {
   "cell_type": "code",
   "execution_count": 152,
   "id": "08c5fa89",
   "metadata": {},
   "outputs": [
    {
     "data": {
      "text/html": [
       "<div>\n",
       "<style scoped>\n",
       "    .dataframe tbody tr th:only-of-type {\n",
       "        vertical-align: middle;\n",
       "    }\n",
       "\n",
       "    .dataframe tbody tr th {\n",
       "        vertical-align: top;\n",
       "    }\n",
       "\n",
       "    .dataframe thead th {\n",
       "        text-align: right;\n",
       "    }\n",
       "</style>\n",
       "<table border=\"1\" class=\"dataframe\">\n",
       "  <thead>\n",
       "    <tr style=\"text-align: right;\">\n",
       "      <th></th>\n",
       "      <th>author</th>\n",
       "      <th>rating</th>\n",
       "      <th>date</th>\n",
       "      <th>review_text</th>\n",
       "      <th>date_new</th>\n",
       "    </tr>\n",
       "  </thead>\n",
       "  <tbody>\n",
       "    <tr>\n",
       "      <th>1745</th>\n",
       "      <td>Болат Жунусалиев</td>\n",
       "      <td>4</td>\n",
       "      <td>29 января 2019</td>\n",
       "      <td>Суши пицца все вкусно</td>\n",
       "      <td>2019-01-29</td>\n",
       "    </tr>\n",
       "    <tr>\n",
       "      <th>1746</th>\n",
       "      <td>Адилет Тыныбай</td>\n",
       "      <td>5</td>\n",
       "      <td>15 января 2019</td>\n",
       "      <td>мы с женой по ужиныли,не где в Алмате нет таки...</td>\n",
       "      <td>2019-01-15</td>\n",
       "    </tr>\n",
       "    <tr>\n",
       "      <th>1747</th>\n",
       "      <td>Aaliya Ahmadieva</td>\n",
       "      <td>1</td>\n",
       "      <td>13 января 2019</td>\n",
       "      <td>Холодно в зале. Жутко холодно. Двери открывают...</td>\n",
       "      <td>2019-01-13</td>\n",
       "    </tr>\n",
       "    <tr>\n",
       "      <th>1748</th>\n",
       "      <td>Куаныш Сайлаубаев</td>\n",
       "      <td>1</td>\n",
       "      <td>9 января 2019</td>\n",
       "      <td>Полностью присоединяюсь к последнему отзыву, с...</td>\n",
       "      <td>2019-01-09</td>\n",
       "    </tr>\n",
       "    <tr>\n",
       "      <th>1749</th>\n",
       "      <td>Арслан Арслан</td>\n",
       "      <td>1</td>\n",
       "      <td>6 января 2019</td>\n",
       "      <td>Начну наверное с 2GIS, хочу везде где можно на...</td>\n",
       "      <td>2019-01-06</td>\n",
       "    </tr>\n",
       "  </tbody>\n",
       "</table>\n",
       "</div>"
      ],
      "text/plain": [
       "                 author  rating            date  \\\n",
       "1745   Болат Жунусалиев       4  29 января 2019   \n",
       "1746     Адилет Тыныбай       5  15 января 2019   \n",
       "1747   Aaliya Ahmadieva       1  13 января 2019   \n",
       "1748  Куаныш Сайлаубаев       1   9 января 2019   \n",
       "1749      Арслан Арслан       1   6 января 2019   \n",
       "\n",
       "                                            review_text    date_new  \n",
       "1745                              Суши пицца все вкусно  2019-01-29  \n",
       "1746  мы с женой по ужиныли,не где в Алмате нет таки...  2019-01-15  \n",
       "1747  Холодно в зале. Жутко холодно. Двери открывают...  2019-01-13  \n",
       "1748  Полностью присоединяюсь к последнему отзыву, с...  2019-01-09  \n",
       "1749  Начну наверное с 2GIS, хочу везде где можно на...  2019-01-06  "
      ]
     },
     "execution_count": 152,
     "metadata": {},
     "output_type": "execute_result"
    }
   ],
   "source": [
    "df.tail()"
   ]
  },
  {
   "cell_type": "code",
   "execution_count": 153,
   "id": "b83b8c92",
   "metadata": {},
   "outputs": [
    {
     "data": {
      "text/html": [
       "<div>\n",
       "<style scoped>\n",
       "    .dataframe tbody tr th:only-of-type {\n",
       "        vertical-align: middle;\n",
       "    }\n",
       "\n",
       "    .dataframe tbody tr th {\n",
       "        vertical-align: top;\n",
       "    }\n",
       "\n",
       "    .dataframe thead th {\n",
       "        text-align: right;\n",
       "    }\n",
       "</style>\n",
       "<table border=\"1\" class=\"dataframe\">\n",
       "  <thead>\n",
       "    <tr style=\"text-align: right;\">\n",
       "      <th></th>\n",
       "      <th>author</th>\n",
       "      <th>rating</th>\n",
       "      <th>review_text</th>\n",
       "      <th>date</th>\n",
       "    </tr>\n",
       "  </thead>\n",
       "  <tbody>\n",
       "    <tr>\n",
       "      <th>0</th>\n",
       "      <td>Alish Khabiyev</td>\n",
       "      <td>5</td>\n",
       "      <td>👍</td>\n",
       "      <td>2025-04-12</td>\n",
       "    </tr>\n",
       "    <tr>\n",
       "      <th>1</th>\n",
       "      <td>Radmir Asimzhanov</td>\n",
       "      <td>5</td>\n",
       "      <td>Админ Акрам отлично помог 👍🏻</td>\n",
       "      <td>2025-04-13</td>\n",
       "    </tr>\n",
       "    <tr>\n",
       "      <th>2</th>\n",
       "      <td>Балжан Мелс</td>\n",
       "      <td>5</td>\n",
       "      <td>Хочу выразить благодарность замечательной офиц...</td>\n",
       "      <td>2025-04-13</td>\n",
       "    </tr>\n",
       "    <tr>\n",
       "      <th>3</th>\n",
       "      <td>Анара Сейдалиева</td>\n",
       "      <td>5</td>\n",
       "      <td>Бизге барлыгы унады ыстык тамактары корсеткен ...</td>\n",
       "      <td>2025-04-13</td>\n",
       "    </tr>\n",
       "    <tr>\n",
       "      <th>4</th>\n",
       "      <td>Raushan Uaisova</td>\n",
       "      <td>5</td>\n",
       "      <td>Очень нравится именно этот филиал Шефрана. Вку...</td>\n",
       "      <td>2025-04-13</td>\n",
       "    </tr>\n",
       "  </tbody>\n",
       "</table>\n",
       "</div>"
      ],
      "text/plain": [
       "              author  rating  \\\n",
       "0     Alish Khabiyev       5   \n",
       "1  Radmir Asimzhanov       5   \n",
       "2        Балжан Мелс       5   \n",
       "3   Анара Сейдалиева       5   \n",
       "4    Raushan Uaisova       5   \n",
       "\n",
       "                                         review_text        date  \n",
       "0                                                  👍  2025-04-12  \n",
       "1                       Админ Акрам отлично помог 👍🏻  2025-04-13  \n",
       "2  Хочу выразить благодарность замечательной офиц...  2025-04-13  \n",
       "3  Бизге барлыгы унады ыстык тамактары корсеткен ...  2025-04-13  \n",
       "4  Очень нравится именно этот филиал Шефрана. Вку...  2025-04-13  "
      ]
     },
     "execution_count": 153,
     "metadata": {},
     "output_type": "execute_result"
    }
   ],
   "source": [
    "df.drop(columns=[\"date\"], inplace=True)\n",
    "df.rename(columns={\"date_new\": \"date\"}, inplace=True)\n",
    "df.head()"
   ]
  },
  {
   "cell_type": "markdown",
   "id": "e810c954",
   "metadata": {},
   "source": [
    "### 1.2.2 Convert all text into the normal form"
   ]
  },
  {
   "cell_type": "code",
   "execution_count": 154,
   "id": "0514b7a8",
   "metadata": {},
   "outputs": [
    {
     "name": "stdout",
     "output_type": "stream",
     "text": [
      "очень нравится именно этот филиал шефрана вкусная еда отличная подача интересный интерьер все официанты вежливые и аккуратные сегодня нас обслуживание мансур вежливый молодой человек отличное обслуживание быстрый заказ отдельная благодарность поварам желаю вам держать марку✊️процветания и удачи👍\n",
      "alish khabiyev\n"
     ]
    },
    {
     "data": {
      "text/html": [
       "<div>\n",
       "<style scoped>\n",
       "    .dataframe tbody tr th:only-of-type {\n",
       "        vertical-align: middle;\n",
       "    }\n",
       "\n",
       "    .dataframe tbody tr th {\n",
       "        vertical-align: top;\n",
       "    }\n",
       "\n",
       "    .dataframe thead th {\n",
       "        text-align: right;\n",
       "    }\n",
       "</style>\n",
       "<table border=\"1\" class=\"dataframe\">\n",
       "  <thead>\n",
       "    <tr style=\"text-align: right;\">\n",
       "      <th></th>\n",
       "      <th>author</th>\n",
       "      <th>rating</th>\n",
       "      <th>review_text</th>\n",
       "      <th>date</th>\n",
       "    </tr>\n",
       "  </thead>\n",
       "  <tbody>\n",
       "    <tr>\n",
       "      <th>0</th>\n",
       "      <td>alish khabiyev</td>\n",
       "      <td>5</td>\n",
       "      <td>👍</td>\n",
       "      <td>2025-04-12</td>\n",
       "    </tr>\n",
       "    <tr>\n",
       "      <th>1</th>\n",
       "      <td>radmir asimzhanov</td>\n",
       "      <td>5</td>\n",
       "      <td>админ акрам отлично помог 👍🏻</td>\n",
       "      <td>2025-04-13</td>\n",
       "    </tr>\n",
       "    <tr>\n",
       "      <th>2</th>\n",
       "      <td>балжан мелс</td>\n",
       "      <td>5</td>\n",
       "      <td>хочу выразить благодарность замечательной офиц...</td>\n",
       "      <td>2025-04-13</td>\n",
       "    </tr>\n",
       "    <tr>\n",
       "      <th>3</th>\n",
       "      <td>анара сейдалиева</td>\n",
       "      <td>5</td>\n",
       "      <td>бизге барлыгы унады ыстык тамактары корсеткен ...</td>\n",
       "      <td>2025-04-13</td>\n",
       "    </tr>\n",
       "    <tr>\n",
       "      <th>4</th>\n",
       "      <td>raushan uaisova</td>\n",
       "      <td>5</td>\n",
       "      <td>очень нравится именно этот филиал шефрана вкус...</td>\n",
       "      <td>2025-04-13</td>\n",
       "    </tr>\n",
       "  </tbody>\n",
       "</table>\n",
       "</div>"
      ],
      "text/plain": [
       "              author  rating  \\\n",
       "0     alish khabiyev       5   \n",
       "1  radmir asimzhanov       5   \n",
       "2        балжан мелс       5   \n",
       "3   анара сейдалиева       5   \n",
       "4    raushan uaisova       5   \n",
       "\n",
       "                                         review_text        date  \n",
       "0                                                  👍  2025-04-12  \n",
       "1                       админ акрам отлично помог 👍🏻  2025-04-13  \n",
       "2  хочу выразить благодарность замечательной офиц...  2025-04-13  \n",
       "3  бизге барлыгы унады ыстык тамактары корсеткен ...  2025-04-13  \n",
       "4  очень нравится именно этот филиал шефрана вкус...  2025-04-13  "
      ]
     },
     "execution_count": 154,
     "metadata": {},
     "output_type": "execute_result"
    }
   ],
   "source": [
    "def normalize_text(text):\n",
    "    # Convert to lowercase\n",
    "    text = text.lower()\n",
    "    \n",
    "    # Remove punctuation\n",
    "    text = text.translate(str.maketrans('', '', string.punctuation))\n",
    "        \n",
    "    # Remove extra whitespace\n",
    "    text = ' '.join(text.split())\n",
    "    \n",
    "    return text\n",
    "\n",
    "# Example usage\n",
    "text = \"Очень нравится именно этот филиал Шефрана. Вкусная еда, отличная подача, интересный интерьер. Все официанты вежливые и аккуратные. Сегодня нас обслуживание Мансур. Вежливый молодой человек. Отличное обслуживание, быстрый заказ. Отдельная благодарность поварам. Желаю вам держать марку✊️процветания и удачи👍\"\n",
    "text1 = \"Alish Khabiyev\t\"\n",
    "normalized_text = normalize_text(text)\n",
    "normalized_text1 = normalize_text(text1)\n",
    "print(normalized_text) \n",
    "print(normalized_text1)  \n",
    "\n",
    "# Apply normalization to the 'text' column\n",
    "df['author'] = df['author'].apply(normalize_text)\n",
    "df['review_text'] = df['review_text'].apply(normalize_text)\n",
    "df.head()\n"
   ]
  },
  {
   "cell_type": "markdown",
   "id": "af7d3943",
   "metadata": {},
   "source": [
    "### 1.2.3 Delete stop words"
   ]
  },
  {
   "cell_type": "code",
   "execution_count": 155,
   "id": "f8bfefcc",
   "metadata": {},
   "outputs": [
    {
     "name": "stderr",
     "output_type": "stream",
     "text": [
      "[nltk_data] Downloading package stopwords to\n",
      "[nltk_data]     C:\\Users\\ASUS\\AppData\\Roaming\\nltk_data...\n",
      "[nltk_data]   Unzipping corpora\\stopwords.zip.\n"
     ]
    },
    {
     "data": {
      "text/html": [
       "<div>\n",
       "<style scoped>\n",
       "    .dataframe tbody tr th:only-of-type {\n",
       "        vertical-align: middle;\n",
       "    }\n",
       "\n",
       "    .dataframe tbody tr th {\n",
       "        vertical-align: top;\n",
       "    }\n",
       "\n",
       "    .dataframe thead th {\n",
       "        text-align: right;\n",
       "    }\n",
       "</style>\n",
       "<table border=\"1\" class=\"dataframe\">\n",
       "  <thead>\n",
       "    <tr style=\"text-align: right;\">\n",
       "      <th></th>\n",
       "      <th>author</th>\n",
       "      <th>rating</th>\n",
       "      <th>review_text</th>\n",
       "      <th>date</th>\n",
       "    </tr>\n",
       "  </thead>\n",
       "  <tbody>\n",
       "    <tr>\n",
       "      <th>1373</th>\n",
       "      <td>сымбат есболова</td>\n",
       "      <td>5</td>\n",
       "      <td>огромная благодарность официанту айым посовето...</td>\n",
       "      <td>2021-06-03</td>\n",
       "    </tr>\n",
       "    <tr>\n",
       "      <th>738</th>\n",
       "      <td>арман кайратулы</td>\n",
       "      <td>5</td>\n",
       "      <td>очень уютно отличное обслуживание вкусная еда ...</td>\n",
       "      <td>2023-11-17</td>\n",
       "    </tr>\n",
       "    <tr>\n",
       "      <th>1086</th>\n",
       "      <td>ооо user</td>\n",
       "      <td>5</td>\n",
       "      <td>очень обслуживают респект🤗 позитивно улыбкой с...</td>\n",
       "      <td>2022-08-02</td>\n",
       "    </tr>\n",
       "    <tr>\n",
       "      <th>792</th>\n",
       "      <td>данагүл сулейманова</td>\n",
       "      <td>5</td>\n",
       "      <td>тамактары өте дәмділағманы керемет қызмет көрс...</td>\n",
       "      <td>2023-08-05</td>\n",
       "    </tr>\n",
       "    <tr>\n",
       "      <th>1413</th>\n",
       "      <td>zhanel spatai</td>\n",
       "      <td>5</td>\n",
       "      <td>отличное кафеблюдо вкусныебыстро удобнооффициа...</td>\n",
       "      <td>2021-05-22</td>\n",
       "    </tr>\n",
       "    <tr>\n",
       "      <th>1633</th>\n",
       "      <td>aldiyar malkeev</td>\n",
       "      <td>1</td>\n",
       "      <td>контактных телефонов нету</td>\n",
       "      <td>2019-08-14</td>\n",
       "    </tr>\n",
       "    <tr>\n",
       "      <th>1511</th>\n",
       "      <td>тимур каузбаев</td>\n",
       "      <td>5</td>\n",
       "      <td>шафран это место очень вкусно поесть спасибо р...</td>\n",
       "      <td>2020-12-22</td>\n",
       "    </tr>\n",
       "    <tr>\n",
       "      <th>826</th>\n",
       "      <td>hunt b</td>\n",
       "      <td>1</td>\n",
       "      <td>официанты сидят болтают ходишь зовешь залу обс...</td>\n",
       "      <td>2023-07-23</td>\n",
       "    </tr>\n",
       "    <tr>\n",
       "      <th>1189</th>\n",
       "      <td>улан абенов</td>\n",
       "      <td>1</td>\n",
       "      <td>добрый ночи сегодня кафе хочу написать свое мн...</td>\n",
       "      <td>2022-03-26</td>\n",
       "    </tr>\n",
       "    <tr>\n",
       "      <th>887</th>\n",
       "      <td>aru zhambyl</td>\n",
       "      <td>5</td>\n",
       "      <td>very cool very delicious thanks for service🫱🏻‍🫲🏼👍</td>\n",
       "      <td>2023-06-14</td>\n",
       "    </tr>\n",
       "  </tbody>\n",
       "</table>\n",
       "</div>"
      ],
      "text/plain": [
       "                   author  rating  \\\n",
       "1373      сымбат есболова       5   \n",
       "738       арман кайратулы       5   \n",
       "1086             ооо user       5   \n",
       "792   данагүл сулейманова       5   \n",
       "1413        zhanel spatai       5   \n",
       "1633      aldiyar malkeev       1   \n",
       "1511       тимур каузбаев       5   \n",
       "826                hunt b       1   \n",
       "1189          улан абенов       1   \n",
       "887           aru zhambyl       5   \n",
       "\n",
       "                                            review_text        date  \n",
       "1373  огромная благодарность официанту айым посовето...  2021-06-03  \n",
       "738   очень уютно отличное обслуживание вкусная еда ...  2023-11-17  \n",
       "1086  очень обслуживают респект🤗 позитивно улыбкой с...  2022-08-02  \n",
       "792   тамактары өте дәмділағманы керемет қызмет көрс...  2023-08-05  \n",
       "1413  отличное кафеблюдо вкусныебыстро удобнооффициа...  2021-05-22  \n",
       "1633                          контактных телефонов нету  2019-08-14  \n",
       "1511  шафран это место очень вкусно поесть спасибо р...  2020-12-22  \n",
       "826   официанты сидят болтают ходишь зовешь залу обс...  2023-07-23  \n",
       "1189  добрый ночи сегодня кафе хочу написать свое мн...  2022-03-26  \n",
       "887   very cool very delicious thanks for service🫱🏻‍🫲🏼👍  2023-06-14  "
      ]
     },
     "execution_count": 155,
     "metadata": {},
     "output_type": "execute_result"
    }
   ],
   "source": [
    "import nltk\n",
    "nltk.download('stopwords')\n",
    "from nltk.corpus import stopwords\n",
    "\n",
    "stop_words = set(stopwords.words('russian'))\n",
    "\n",
    "\n",
    "def remove_stopwords(text):\n",
    "    words = text.split()\n",
    "    cleaned = [word for word in words if word not in stop_words]\n",
    "    return ' '.join(cleaned)\n",
    "\n",
    "df['review_text'] = df['review_text'].apply(remove_stopwords)\n",
    "df.sample(10)\n"
   ]
  },
  {
   "cell_type": "markdown",
   "id": "a24eb1d7",
   "metadata": {},
   "source": [
    "### 1.2.3 Delete emojis"
   ]
  },
  {
   "cell_type": "code",
   "execution_count": 156,
   "id": "8356e507",
   "metadata": {},
   "outputs": [
    {
     "name": "stdout",
     "output_type": "stream",
     "text": [
      "админ акрам отлично помог \t\n"
     ]
    },
    {
     "data": {
      "text/html": [
       "<div>\n",
       "<style scoped>\n",
       "    .dataframe tbody tr th:only-of-type {\n",
       "        vertical-align: middle;\n",
       "    }\n",
       "\n",
       "    .dataframe tbody tr th {\n",
       "        vertical-align: top;\n",
       "    }\n",
       "\n",
       "    .dataframe thead th {\n",
       "        text-align: right;\n",
       "    }\n",
       "</style>\n",
       "<table border=\"1\" class=\"dataframe\">\n",
       "  <thead>\n",
       "    <tr style=\"text-align: right;\">\n",
       "      <th></th>\n",
       "      <th>author</th>\n",
       "      <th>rating</th>\n",
       "      <th>review_text</th>\n",
       "      <th>date</th>\n",
       "    </tr>\n",
       "  </thead>\n",
       "  <tbody>\n",
       "    <tr>\n",
       "      <th>0</th>\n",
       "      <td>alish khabiyev</td>\n",
       "      <td>5</td>\n",
       "      <td></td>\n",
       "      <td>2025-04-12</td>\n",
       "    </tr>\n",
       "    <tr>\n",
       "      <th>1</th>\n",
       "      <td>radmir asimzhanov</td>\n",
       "      <td>5</td>\n",
       "      <td>админ акрам отлично помог</td>\n",
       "      <td>2025-04-13</td>\n",
       "    </tr>\n",
       "    <tr>\n",
       "      <th>2</th>\n",
       "      <td>балжан мелс</td>\n",
       "      <td>5</td>\n",
       "      <td>хочу выразить благодарность замечательной офиц...</td>\n",
       "      <td>2025-04-13</td>\n",
       "    </tr>\n",
       "    <tr>\n",
       "      <th>3</th>\n",
       "      <td>анара сейдалиева</td>\n",
       "      <td>5</td>\n",
       "      <td>бизге барлыгы унады ыстык тамактары корсеткен ...</td>\n",
       "      <td>2025-04-13</td>\n",
       "    </tr>\n",
       "    <tr>\n",
       "      <th>4</th>\n",
       "      <td>raushan uaisova</td>\n",
       "      <td>5</td>\n",
       "      <td>очень нравится именно филиал шефрана вкусная е...</td>\n",
       "      <td>2025-04-13</td>\n",
       "    </tr>\n",
       "  </tbody>\n",
       "</table>\n",
       "</div>"
      ],
      "text/plain": [
       "              author  rating  \\\n",
       "0     alish khabiyev       5   \n",
       "1  radmir asimzhanov       5   \n",
       "2        балжан мелс       5   \n",
       "3   анара сейдалиева       5   \n",
       "4    raushan uaisova       5   \n",
       "\n",
       "                                         review_text        date  \n",
       "0                                                     2025-04-12  \n",
       "1                         админ акрам отлично помог   2025-04-13  \n",
       "2  хочу выразить благодарность замечательной офиц...  2025-04-13  \n",
       "3  бизге барлыгы унады ыстык тамактары корсеткен ...  2025-04-13  \n",
       "4  очень нравится именно филиал шефрана вкусная е...  2025-04-13  "
      ]
     },
     "execution_count": 156,
     "metadata": {},
     "output_type": "execute_result"
    }
   ],
   "source": [
    "import emoji\n",
    "\n",
    "def remove_emojis(text):\n",
    "    return emoji.replace_emoji(text, replace='')\n",
    "\n",
    "text = \"админ акрам отлично помог 👍🏻\t\"\n",
    "print(remove_emojis(text))\n",
    "\n",
    "df['author'] = df['author'].apply(remove_emojis)\n",
    "df['review_text'] = df['review_text'].apply(remove_emojis)\n",
    "df.head()\n"
   ]
  },
  {
   "cell_type": "code",
   "execution_count": 157,
   "id": "3cb577ba",
   "metadata": {},
   "outputs": [
    {
     "data": {
      "text/html": [
       "<div>\n",
       "<style scoped>\n",
       "    .dataframe tbody tr th:only-of-type {\n",
       "        vertical-align: middle;\n",
       "    }\n",
       "\n",
       "    .dataframe tbody tr th {\n",
       "        vertical-align: top;\n",
       "    }\n",
       "\n",
       "    .dataframe thead th {\n",
       "        text-align: right;\n",
       "    }\n",
       "</style>\n",
       "<table border=\"1\" class=\"dataframe\">\n",
       "  <thead>\n",
       "    <tr style=\"text-align: right;\">\n",
       "      <th></th>\n",
       "      <th>author</th>\n",
       "      <th>rating</th>\n",
       "      <th>review_text</th>\n",
       "      <th>date</th>\n",
       "      <th>date_new</th>\n",
       "    </tr>\n",
       "  </thead>\n",
       "  <tbody>\n",
       "    <tr>\n",
       "      <th>0</th>\n",
       "      <td>alish khabiyev</td>\n",
       "      <td>5</td>\n",
       "      <td></td>\n",
       "      <td>2025-04-12</td>\n",
       "      <td>2025-04-12</td>\n",
       "    </tr>\n",
       "    <tr>\n",
       "      <th>1</th>\n",
       "      <td>radmir asimzhanov</td>\n",
       "      <td>5</td>\n",
       "      <td>админ акрам отлично помог</td>\n",
       "      <td>2025-04-13</td>\n",
       "      <td>2025-04-13</td>\n",
       "    </tr>\n",
       "    <tr>\n",
       "      <th>2</th>\n",
       "      <td>балжан мелс</td>\n",
       "      <td>5</td>\n",
       "      <td>хочу выразить благодарность замечательной офиц...</td>\n",
       "      <td>2025-04-13</td>\n",
       "      <td>2025-04-13</td>\n",
       "    </tr>\n",
       "    <tr>\n",
       "      <th>3</th>\n",
       "      <td>анара сейдалиева</td>\n",
       "      <td>5</td>\n",
       "      <td>бизге барлыгы унады ыстык тамактары корсеткен ...</td>\n",
       "      <td>2025-04-13</td>\n",
       "      <td>2025-04-13</td>\n",
       "    </tr>\n",
       "    <tr>\n",
       "      <th>4</th>\n",
       "      <td>raushan uaisova</td>\n",
       "      <td>5</td>\n",
       "      <td>очень нравится именно филиал шефрана вкусная е...</td>\n",
       "      <td>2025-04-13</td>\n",
       "      <td>2025-04-13</td>\n",
       "    </tr>\n",
       "  </tbody>\n",
       "</table>\n",
       "</div>"
      ],
      "text/plain": [
       "              author  rating  \\\n",
       "0     alish khabiyev       5   \n",
       "1  radmir asimzhanov       5   \n",
       "2        балжан мелс       5   \n",
       "3   анара сейдалиева       5   \n",
       "4    raushan uaisova       5   \n",
       "\n",
       "                                         review_text        date   date_new  \n",
       "0                                                     2025-04-12 2025-04-12  \n",
       "1                         админ акрам отлично помог   2025-04-13 2025-04-13  \n",
       "2  хочу выразить благодарность замечательной офиц...  2025-04-13 2025-04-13  \n",
       "3  бизге барлыгы унады ыстык тамактары корсеткен ...  2025-04-13 2025-04-13  \n",
       "4  очень нравится именно филиал шефрана вкусная е...  2025-04-13 2025-04-13  "
      ]
     },
     "execution_count": 157,
     "metadata": {},
     "output_type": "execute_result"
    }
   ],
   "source": [
    "df['date_new'] = pd.to_datetime(df['date'], errors='coerce')\n",
    "df.head()\n"
   ]
  },
  {
   "cell_type": "code",
   "execution_count": 158,
   "id": "1e5eebd4",
   "metadata": {},
   "outputs": [
    {
     "name": "stdout",
     "output_type": "stream",
     "text": [
      "<class 'pandas.core.frame.DataFrame'>\n",
      "RangeIndex: 1750 entries, 0 to 1749\n",
      "Data columns (total 5 columns):\n",
      " #   Column       Non-Null Count  Dtype         \n",
      "---  ------       --------------  -----         \n",
      " 0   author       1750 non-null   object        \n",
      " 1   rating       1750 non-null   int64         \n",
      " 2   review_text  1750 non-null   object        \n",
      " 3   date         1750 non-null   object        \n",
      " 4   date_new     1750 non-null   datetime64[ns]\n",
      "dtypes: datetime64[ns](1), int64(1), object(3)\n",
      "memory usage: 68.5+ KB\n"
     ]
    }
   ],
   "source": [
    "df.info()"
   ]
  },
  {
   "cell_type": "code",
   "execution_count": 159,
   "id": "eaee7713",
   "metadata": {},
   "outputs": [
    {
     "data": {
      "text/html": [
       "<div>\n",
       "<style scoped>\n",
       "    .dataframe tbody tr th:only-of-type {\n",
       "        vertical-align: middle;\n",
       "    }\n",
       "\n",
       "    .dataframe tbody tr th {\n",
       "        vertical-align: top;\n",
       "    }\n",
       "\n",
       "    .dataframe thead th {\n",
       "        text-align: right;\n",
       "    }\n",
       "</style>\n",
       "<table border=\"1\" class=\"dataframe\">\n",
       "  <thead>\n",
       "    <tr style=\"text-align: right;\">\n",
       "      <th></th>\n",
       "      <th>author</th>\n",
       "      <th>rating</th>\n",
       "      <th>review_text</th>\n",
       "      <th>date</th>\n",
       "    </tr>\n",
       "  </thead>\n",
       "  <tbody>\n",
       "    <tr>\n",
       "      <th>0</th>\n",
       "      <td>alish khabiyev</td>\n",
       "      <td>5</td>\n",
       "      <td></td>\n",
       "      <td>2025-04-12</td>\n",
       "    </tr>\n",
       "    <tr>\n",
       "      <th>1</th>\n",
       "      <td>radmir asimzhanov</td>\n",
       "      <td>5</td>\n",
       "      <td>админ акрам отлично помог</td>\n",
       "      <td>2025-04-13</td>\n",
       "    </tr>\n",
       "    <tr>\n",
       "      <th>2</th>\n",
       "      <td>балжан мелс</td>\n",
       "      <td>5</td>\n",
       "      <td>хочу выразить благодарность замечательной офиц...</td>\n",
       "      <td>2025-04-13</td>\n",
       "    </tr>\n",
       "    <tr>\n",
       "      <th>3</th>\n",
       "      <td>анара сейдалиева</td>\n",
       "      <td>5</td>\n",
       "      <td>бизге барлыгы унады ыстык тамактары корсеткен ...</td>\n",
       "      <td>2025-04-13</td>\n",
       "    </tr>\n",
       "    <tr>\n",
       "      <th>4</th>\n",
       "      <td>raushan uaisova</td>\n",
       "      <td>5</td>\n",
       "      <td>очень нравится именно филиал шефрана вкусная е...</td>\n",
       "      <td>2025-04-13</td>\n",
       "    </tr>\n",
       "  </tbody>\n",
       "</table>\n",
       "</div>"
      ],
      "text/plain": [
       "              author  rating  \\\n",
       "0     alish khabiyev       5   \n",
       "1  radmir asimzhanov       5   \n",
       "2        балжан мелс       5   \n",
       "3   анара сейдалиева       5   \n",
       "4    raushan uaisova       5   \n",
       "\n",
       "                                         review_text       date  \n",
       "0                                                    2025-04-12  \n",
       "1                         админ акрам отлично помог  2025-04-13  \n",
       "2  хочу выразить благодарность замечательной офиц... 2025-04-13  \n",
       "3  бизге барлыгы унады ыстык тамактары корсеткен ... 2025-04-13  \n",
       "4  очень нравится именно филиал шефрана вкусная е... 2025-04-13  "
      ]
     },
     "execution_count": 159,
     "metadata": {},
     "output_type": "execute_result"
    }
   ],
   "source": [
    "df.drop(columns=[\"date\"], inplace=True)\n",
    "df.rename(columns={\"date_new\": \"date\"}, inplace=True)\n",
    "df.head()"
   ]
  },
  {
   "cell_type": "code",
   "execution_count": 160,
   "id": "4c0af7f4",
   "metadata": {},
   "outputs": [
    {
     "name": "stdout",
     "output_type": "stream",
     "text": [
      "<class 'pandas.core.frame.DataFrame'>\n",
      "RangeIndex: 1750 entries, 0 to 1749\n",
      "Data columns (total 4 columns):\n",
      " #   Column       Non-Null Count  Dtype         \n",
      "---  ------       --------------  -----         \n",
      " 0   author       1750 non-null   object        \n",
      " 1   rating       1750 non-null   int64         \n",
      " 2   review_text  1750 non-null   object        \n",
      " 3   date         1750 non-null   datetime64[ns]\n",
      "dtypes: datetime64[ns](1), int64(1), object(2)\n",
      "memory usage: 54.8+ KB\n"
     ]
    }
   ],
   "source": [
    "df.info()"
   ]
  },
  {
   "cell_type": "markdown",
   "id": "20b62c44",
   "metadata": {},
   "source": [
    "## 2.1 Exploratory Data Analysis\n"
   ]
  },
  {
   "cell_type": "code",
   "execution_count": 161,
   "id": "bfb0b143",
   "metadata": {},
   "outputs": [],
   "source": [
    "def ratings(rating):\n",
    "    if rating > 3 and rating <= 5:\n",
    "        return \"Positive\"\n",
    "    if rating > 0 and rating <= 2:\n",
    "        return \"Negative\"\n",
    "    if rating == 3:\n",
    "        return \"Neutral\""
   ]
  },
  {
   "cell_type": "code",
   "execution_count": 162,
   "id": "25453bde",
   "metadata": {},
   "outputs": [],
   "source": [
    "df1 = df.copy()"
   ]
  },
  {
   "cell_type": "code",
   "execution_count": 163,
   "id": "2f8716f0",
   "metadata": {},
   "outputs": [
    {
     "data": {
      "image/png": "[encoded data removed]",
      "text/plain": [
       "<Figure size 640x480 with 1 Axes>"
      ]
     },
     "metadata": {},
     "output_type": "display_data"
    }
   ],
   "source": [
    "df1[\"rating_sentiment\"] = df1[\"rating\"].apply(ratings)\n",
    "plt.pie(df1[\"rating_sentiment\"].value_counts(), labels = df1[\"rating_sentiment\"].value_counts().index, autopct='%1.1f%%', startangle=140)\n",
    "plt.show()"
   ]
  },
  {
   "cell_type": "code",
   "execution_count": 164,
   "id": "dae34846",
   "metadata": {},
   "outputs": [
    {
     "name": "stdout",
     "output_type": "stream",
     "text": [
      "Length of a sample review: 114\n"
     ]
    }
   ],
   "source": [
    "lenght = len(df1[\"review_text\"][5])\n",
    "print(f'Length of a sample review: {lenght}')"
   ]
  },
  {
   "cell_type": "markdown",
   "id": "7518d14c",
   "metadata": {},
   "source": [
    "### 2.2 Most occurning words"
   ]
  },
  {
   "cell_type": "code",
   "execution_count": 165,
   "id": "3b52575d",
   "metadata": {},
   "outputs": [
    {
     "data": {
      "text/html": [
       "<div>\n",
       "<style scoped>\n",
       "    .dataframe tbody tr th:only-of-type {\n",
       "        vertical-align: middle;\n",
       "    }\n",
       "\n",
       "    .dataframe tbody tr th {\n",
       "        vertical-align: top;\n",
       "    }\n",
       "\n",
       "    .dataframe thead th {\n",
       "        text-align: right;\n",
       "    }\n",
       "</style>\n",
       "<table border=\"1\" class=\"dataframe\">\n",
       "  <thead>\n",
       "    <tr style=\"text-align: right;\">\n",
       "      <th></th>\n",
       "      <th>author</th>\n",
       "      <th>rating</th>\n",
       "      <th>review_text</th>\n",
       "      <th>date</th>\n",
       "      <th>rating_sentiment</th>\n",
       "      <th>Length</th>\n",
       "    </tr>\n",
       "  </thead>\n",
       "  <tbody>\n",
       "    <tr>\n",
       "      <th>0</th>\n",
       "      <td>alish khabiyev</td>\n",
       "      <td>5</td>\n",
       "      <td></td>\n",
       "      <td>2025-04-12</td>\n",
       "      <td>Positive</td>\n",
       "      <td>0</td>\n",
       "    </tr>\n",
       "    <tr>\n",
       "      <th>1</th>\n",
       "      <td>radmir asimzhanov</td>\n",
       "      <td>5</td>\n",
       "      <td>админ акрам отлично помог</td>\n",
       "      <td>2025-04-13</td>\n",
       "      <td>Positive</td>\n",
       "      <td>26</td>\n",
       "    </tr>\n",
       "    <tr>\n",
       "      <th>2</th>\n",
       "      <td>балжан мелс</td>\n",
       "      <td>5</td>\n",
       "      <td>хочу выразить благодарность замечательной офиц...</td>\n",
       "      <td>2025-04-13</td>\n",
       "      <td>Positive</td>\n",
       "      <td>274</td>\n",
       "    </tr>\n",
       "    <tr>\n",
       "      <th>3</th>\n",
       "      <td>анара сейдалиева</td>\n",
       "      <td>5</td>\n",
       "      <td>бизге барлыгы унады ыстык тамактары корсеткен ...</td>\n",
       "      <td>2025-04-13</td>\n",
       "      <td>Positive</td>\n",
       "      <td>87</td>\n",
       "    </tr>\n",
       "    <tr>\n",
       "      <th>4</th>\n",
       "      <td>raushan uaisova</td>\n",
       "      <td>5</td>\n",
       "      <td>очень нравится именно филиал шефрана вкусная е...</td>\n",
       "      <td>2025-04-13</td>\n",
       "      <td>Positive</td>\n",
       "      <td>272</td>\n",
       "    </tr>\n",
       "  </tbody>\n",
       "</table>\n",
       "</div>"
      ],
      "text/plain": [
       "              author  rating  \\\n",
       "0     alish khabiyev       5   \n",
       "1  radmir asimzhanov       5   \n",
       "2        балжан мелс       5   \n",
       "3   анара сейдалиева       5   \n",
       "4    raushan uaisova       5   \n",
       "\n",
       "                                         review_text       date  \\\n",
       "0                                                    2025-04-12   \n",
       "1                         админ акрам отлично помог  2025-04-13   \n",
       "2  хочу выразить благодарность замечательной офиц... 2025-04-13   \n",
       "3  бизге барлыгы унады ыстык тамактары корсеткен ... 2025-04-13   \n",
       "4  очень нравится именно филиал шефрана вкусная е... 2025-04-13   \n",
       "\n",
       "  rating_sentiment  Length  \n",
       "0         Positive       0  \n",
       "1         Positive      26  \n",
       "2         Positive     274  \n",
       "3         Positive      87  \n",
       "4         Positive     272  "
      ]
     },
     "execution_count": 165,
     "metadata": {},
     "output_type": "execute_result"
    }
   ],
   "source": [
    "df1[\"Length\"] = df1[\"review_text\"].str.len()\n",
    "df1.head()"
   ]
  },
  {
   "cell_type": "code",
   "execution_count": 166,
   "id": "d2ffcc3b",
   "metadata": {},
   "outputs": [],
   "source": [
    "def word_count(review):\n",
    "    review = review.split()\n",
    "    return len(review)\n"
   ]
  },
  {
   "cell_type": "code",
   "execution_count": 167,
   "id": "37d1e5e8",
   "metadata": {},
   "outputs": [
    {
     "data": {
      "text/html": [
       "<div>\n",
       "<style scoped>\n",
       "    .dataframe tbody tr th:only-of-type {\n",
       "        vertical-align: middle;\n",
       "    }\n",
       "\n",
       "    .dataframe tbody tr th {\n",
       "        vertical-align: top;\n",
       "    }\n",
       "\n",
       "    .dataframe thead th {\n",
       "        text-align: right;\n",
       "    }\n",
       "</style>\n",
       "<table border=\"1\" class=\"dataframe\">\n",
       "  <thead>\n",
       "    <tr style=\"text-align: right;\">\n",
       "      <th></th>\n",
       "      <th>author</th>\n",
       "      <th>rating</th>\n",
       "      <th>review_text</th>\n",
       "      <th>date</th>\n",
       "      <th>rating_sentiment</th>\n",
       "      <th>Length</th>\n",
       "      <th>Word_Count</th>\n",
       "    </tr>\n",
       "  </thead>\n",
       "  <tbody>\n",
       "    <tr>\n",
       "      <th>0</th>\n",
       "      <td>alish khabiyev</td>\n",
       "      <td>5</td>\n",
       "      <td></td>\n",
       "      <td>2025-04-12</td>\n",
       "      <td>Positive</td>\n",
       "      <td>0</td>\n",
       "      <td>0</td>\n",
       "    </tr>\n",
       "    <tr>\n",
       "      <th>1</th>\n",
       "      <td>radmir asimzhanov</td>\n",
       "      <td>5</td>\n",
       "      <td>админ акрам отлично помог</td>\n",
       "      <td>2025-04-13</td>\n",
       "      <td>Positive</td>\n",
       "      <td>26</td>\n",
       "      <td>4</td>\n",
       "    </tr>\n",
       "    <tr>\n",
       "      <th>2</th>\n",
       "      <td>балжан мелс</td>\n",
       "      <td>5</td>\n",
       "      <td>хочу выразить благодарность замечательной офиц...</td>\n",
       "      <td>2025-04-13</td>\n",
       "      <td>Positive</td>\n",
       "      <td>274</td>\n",
       "      <td>30</td>\n",
       "    </tr>\n",
       "    <tr>\n",
       "      <th>3</th>\n",
       "      <td>анара сейдалиева</td>\n",
       "      <td>5</td>\n",
       "      <td>бизге барлыгы унады ыстык тамактары корсеткен ...</td>\n",
       "      <td>2025-04-13</td>\n",
       "      <td>Positive</td>\n",
       "      <td>87</td>\n",
       "      <td>11</td>\n",
       "    </tr>\n",
       "    <tr>\n",
       "      <th>4</th>\n",
       "      <td>raushan uaisova</td>\n",
       "      <td>5</td>\n",
       "      <td>очень нравится именно филиал шефрана вкусная е...</td>\n",
       "      <td>2025-04-13</td>\n",
       "      <td>Positive</td>\n",
       "      <td>272</td>\n",
       "      <td>31</td>\n",
       "    </tr>\n",
       "  </tbody>\n",
       "</table>\n",
       "</div>"
      ],
      "text/plain": [
       "              author  rating  \\\n",
       "0     alish khabiyev       5   \n",
       "1  radmir asimzhanov       5   \n",
       "2        балжан мелс       5   \n",
       "3   анара сейдалиева       5   \n",
       "4    raushan uaisova       5   \n",
       "\n",
       "                                         review_text       date  \\\n",
       "0                                                    2025-04-12   \n",
       "1                         админ акрам отлично помог  2025-04-13   \n",
       "2  хочу выразить благодарность замечательной офиц... 2025-04-13   \n",
       "3  бизге барлыгы унады ыстык тамактары корсеткен ... 2025-04-13   \n",
       "4  очень нравится именно филиал шефрана вкусная е... 2025-04-13   \n",
       "\n",
       "  rating_sentiment  Length  Word_Count  \n",
       "0         Positive       0           0  \n",
       "1         Positive      26           4  \n",
       "2         Positive     274          30  \n",
       "3         Positive      87          11  \n",
       "4         Positive     272          31  "
      ]
     },
     "execution_count": 167,
     "metadata": {},
     "output_type": "execute_result"
    }
   ],
   "source": [
    "df1[\"Word_Count\"] = df1[\"review_text\"].apply(word_count)\n",
    "df1.head()"
   ]
  },
  {
   "cell_type": "code",
   "execution_count": 168,
   "id": "3b955e01",
   "metadata": {},
   "outputs": [],
   "source": [
    "def corpus(text):\n",
    "    text_list = text.split()\n",
    "    return text_list"
   ]
  },
  {
   "cell_type": "code",
   "execution_count": 169,
   "id": "b0137ddb",
   "metadata": {},
   "outputs": [
    {
     "data": {
      "text/html": [
       "<div>\n",
       "<style scoped>\n",
       "    .dataframe tbody tr th:only-of-type {\n",
       "        vertical-align: middle;\n",
       "    }\n",
       "\n",
       "    .dataframe tbody tr th {\n",
       "        vertical-align: top;\n",
       "    }\n",
       "\n",
       "    .dataframe thead th {\n",
       "        text-align: right;\n",
       "    }\n",
       "</style>\n",
       "<table border=\"1\" class=\"dataframe\">\n",
       "  <thead>\n",
       "    <tr style=\"text-align: right;\">\n",
       "      <th></th>\n",
       "      <th>author</th>\n",
       "      <th>rating</th>\n",
       "      <th>review_text</th>\n",
       "      <th>date</th>\n",
       "      <th>rating_sentiment</th>\n",
       "      <th>Length</th>\n",
       "      <th>Word_Count</th>\n",
       "      <th>review_list</th>\n",
       "    </tr>\n",
       "  </thead>\n",
       "  <tbody>\n",
       "    <tr>\n",
       "      <th>0</th>\n",
       "      <td>alish khabiyev</td>\n",
       "      <td>5</td>\n",
       "      <td></td>\n",
       "      <td>2025-04-12</td>\n",
       "      <td>Positive</td>\n",
       "      <td>0</td>\n",
       "      <td>0</td>\n",
       "      <td>[]</td>\n",
       "    </tr>\n",
       "    <tr>\n",
       "      <th>1</th>\n",
       "      <td>radmir asimzhanov</td>\n",
       "      <td>5</td>\n",
       "      <td>админ акрам отлично помог</td>\n",
       "      <td>2025-04-13</td>\n",
       "      <td>Positive</td>\n",
       "      <td>26</td>\n",
       "      <td>4</td>\n",
       "      <td>[админ, акрам, отлично, помог]</td>\n",
       "    </tr>\n",
       "    <tr>\n",
       "      <th>2</th>\n",
       "      <td>балжан мелс</td>\n",
       "      <td>5</td>\n",
       "      <td>хочу выразить благодарность замечательной офиц...</td>\n",
       "      <td>2025-04-13</td>\n",
       "      <td>Positive</td>\n",
       "      <td>274</td>\n",
       "      <td>30</td>\n",
       "      <td>[хочу, выразить, благодарность, замечательной,...</td>\n",
       "    </tr>\n",
       "    <tr>\n",
       "      <th>3</th>\n",
       "      <td>анара сейдалиева</td>\n",
       "      <td>5</td>\n",
       "      <td>бизге барлыгы унады ыстык тамактары корсеткен ...</td>\n",
       "      <td>2025-04-13</td>\n",
       "      <td>Positive</td>\n",
       "      <td>87</td>\n",
       "      <td>11</td>\n",
       "      <td>[бизге, барлыгы, унады, ыстык, тамактары, корс...</td>\n",
       "    </tr>\n",
       "    <tr>\n",
       "      <th>4</th>\n",
       "      <td>raushan uaisova</td>\n",
       "      <td>5</td>\n",
       "      <td>очень нравится именно филиал шефрана вкусная е...</td>\n",
       "      <td>2025-04-13</td>\n",
       "      <td>Positive</td>\n",
       "      <td>272</td>\n",
       "      <td>31</td>\n",
       "      <td>[очень, нравится, именно, филиал, шефрана, вку...</td>\n",
       "    </tr>\n",
       "    <tr>\n",
       "      <th>5</th>\n",
       "      <td>айман куанышева</td>\n",
       "      <td>5</td>\n",
       "      <td>стильный ремонт приятная обстановка приветливы...</td>\n",
       "      <td>2025-04-13</td>\n",
       "      <td>Positive</td>\n",
       "      <td>114</td>\n",
       "      <td>14</td>\n",
       "      <td>[стильный, ремонт, приятная, обстановка, приве...</td>\n",
       "    </tr>\n",
       "    <tr>\n",
       "      <th>6</th>\n",
       "      <td>дидар ырыстай</td>\n",
       "      <td>5</td>\n",
       "      <td>посетил shafran остался большим впечатлением и...</td>\n",
       "      <td>2025-04-13</td>\n",
       "      <td>Positive</td>\n",
       "      <td>476</td>\n",
       "      <td>56</td>\n",
       "      <td>[посетил, shafran, остался, большим, впечатлен...</td>\n",
       "    </tr>\n",
       "    <tr>\n",
       "      <th>7</th>\n",
       "      <td>диасс диасссс</td>\n",
       "      <td>5</td>\n",
       "      <td>акжолспасибо хорошое обслужваниеочень вкусные ...</td>\n",
       "      <td>2025-04-13</td>\n",
       "      <td>Positive</td>\n",
       "      <td>102</td>\n",
       "      <td>11</td>\n",
       "      <td>[акжолспасибо, хорошое, обслужваниеочень, вкус...</td>\n",
       "    </tr>\n",
       "    <tr>\n",
       "      <th>8</th>\n",
       "      <td>ербатыр топский</td>\n",
       "      <td>5</td>\n",
       "      <td>вкусно сытно хорошее обслуживание спасибо офиц...</td>\n",
       "      <td>2025-04-13</td>\n",
       "      <td>Positive</td>\n",
       "      <td>57</td>\n",
       "      <td>7</td>\n",
       "      <td>[вкусно, сытно, хорошее, обслуживание, спасибо...</td>\n",
       "    </tr>\n",
       "    <tr>\n",
       "      <th>9</th>\n",
       "      <td>асылхан садуакасов</td>\n",
       "      <td>5</td>\n",
       "      <td>бүгін отбасымызбен осы мейрамханадан кешкі асы...</td>\n",
       "      <td>2025-04-11</td>\n",
       "      <td>Positive</td>\n",
       "      <td>240</td>\n",
       "      <td>32</td>\n",
       "      <td>[бүгін, отбасымызбен, осы, мейрамханадан, кешк...</td>\n",
       "    </tr>\n",
       "  </tbody>\n",
       "</table>\n",
       "</div>"
      ],
      "text/plain": [
       "               author  rating  \\\n",
       "0      alish khabiyev       5   \n",
       "1   radmir asimzhanov       5   \n",
       "2         балжан мелс       5   \n",
       "3    анара сейдалиева       5   \n",
       "4     raushan uaisova       5   \n",
       "5     айман куанышева       5   \n",
       "6       дидар ырыстай       5   \n",
       "7       диасс диасссс       5   \n",
       "8     ербатыр топский       5   \n",
       "9  асылхан садуакасов       5   \n",
       "\n",
       "                                         review_text       date  \\\n",
       "0                                                    2025-04-12   \n",
       "1                         админ акрам отлично помог  2025-04-13   \n",
       "2  хочу выразить благодарность замечательной офиц... 2025-04-13   \n",
       "3  бизге барлыгы унады ыстык тамактары корсеткен ... 2025-04-13   \n",
       "4  очень нравится именно филиал шефрана вкусная е... 2025-04-13   \n",
       "5  стильный ремонт приятная обстановка приветливы... 2025-04-13   \n",
       "6  посетил shafran остался большим впечатлением и... 2025-04-13   \n",
       "7  акжолспасибо хорошое обслужваниеочень вкусные ... 2025-04-13   \n",
       "8  вкусно сытно хорошее обслуживание спасибо офиц... 2025-04-13   \n",
       "9  бүгін отбасымызбен осы мейрамханадан кешкі асы... 2025-04-11   \n",
       "\n",
       "  rating_sentiment  Length  Word_Count  \\\n",
       "0         Positive       0           0   \n",
       "1         Positive      26           4   \n",
       "2         Positive     274          30   \n",
       "3         Positive      87          11   \n",
       "4         Positive     272          31   \n",
       "5         Positive     114          14   \n",
       "6         Positive     476          56   \n",
       "7         Positive     102          11   \n",
       "8         Positive      57           7   \n",
       "9         Positive     240          32   \n",
       "\n",
       "                                         review_list  \n",
       "0                                                 []  \n",
       "1                     [админ, акрам, отлично, помог]  \n",
       "2  [хочу, выразить, благодарность, замечательной,...  \n",
       "3  [бизге, барлыгы, унады, ыстык, тамактары, корс...  \n",
       "4  [очень, нравится, именно, филиал, шефрана, вку...  \n",
       "5  [стильный, ремонт, приятная, обстановка, приве...  \n",
       "6  [посетил, shafran, остался, большим, впечатлен...  \n",
       "7  [акжолспасибо, хорошое, обслужваниеочень, вкус...  \n",
       "8  [вкусно, сытно, хорошее, обслуживание, спасибо...  \n",
       "9  [бүгін, отбасымызбен, осы, мейрамханадан, кешк...  "
      ]
     },
     "execution_count": 169,
     "metadata": {},
     "output_type": "execute_result"
    }
   ],
   "source": [
    "df1['review_list'] = df1['review_text'].apply(corpus)\n",
    "df1.head(10)"
   ]
  },
  {
   "cell_type": "code",
   "execution_count": 170,
   "id": "8d1559bb",
   "metadata": {},
   "outputs": [
    {
     "name": "stderr",
     "output_type": "stream",
     "text": [
      "100%|\u001b[32m██████████████████████████████████████████████████████████████████████████████████████████████████████████\u001b[0m| 1750/1750 [00:00<00:00, 81653.90it/s]\u001b[0m\n"
     ]
    },
    {
     "data": {
      "text/plain": [
       "25088"
      ]
     },
     "execution_count": 170,
     "metadata": {},
     "output_type": "execute_result"
    }
   ],
   "source": [
    "corpus = []\n",
    "for i in trange(df1.shape[0], ncols=150, nrows=10, colour='green', smoothing=0.8):\n",
    "    corpus += df1['review_list'][i]\n",
    "len(corpus)"
   ]
  },
  {
   "cell_type": "code",
   "execution_count": 171,
   "id": "dd517f92",
   "metadata": {},
   "outputs": [
    {
     "data": {
      "text/plain": [
       "[('очень', 791),\n",
       " ('обслуживание', 447),\n",
       " ('вкусно', 406),\n",
       " ('спасибо', 361),\n",
       " ('өте', 261),\n",
       " ('рахмет', 198),\n",
       " ('еда', 184),\n",
       " ('официант', 181),\n",
       " ('вкусная', 178),\n",
       " ('дәмді', 150)]"
      ]
     },
     "execution_count": 171,
     "metadata": {},
     "output_type": "execute_result"
    }
   ],
   "source": [
    "mostCommon = Counter(corpus).most_common(10)\n",
    "mostCommon"
   ]
  },
  {
   "cell_type": "code",
   "execution_count": 173,
   "id": "25cf404c",
   "metadata": {},
   "outputs": [],
   "source": [
    "words = []\n",
    "freq = []\n",
    "for word, count in mostCommon:\n",
    "    words.append(word)\n",
    "    freq.append(count)"
   ]
  },
  {
   "cell_type": "code",
   "execution_count": 174,
   "id": "88b0b503",
   "metadata": {},
   "outputs": [
    {
     "data": {
      "image/png": "[encoded data removed]",
      "text/plain": [
       "<Figure size 640x480 with 1 Axes>"
      ]
     },
     "metadata": {},
     "output_type": "display_data"
    }
   ],
   "source": [
    "sns.barplot(x=freq, y=words)\n",
    "plt.title('Top 10 Most Frequently Occuring Words')\n",
    "plt.show()"
   ]
  },
  {
   "cell_type": "markdown",
   "id": "0c554269",
   "metadata": {},
   "source": [
    "### Most Frequently occuring Bigrams\n"
   ]
  },
  {
   "cell_type": "code",
   "execution_count": 175,
   "id": "9328122a",
   "metadata": {},
   "outputs": [],
   "source": [
    "cv = CountVectorizer(ngram_range=(2, 2))\n",
    "bigrams = cv.fit_transform(df1['review_text'])"
   ]
  },
  {
   "cell_type": "code",
   "execution_count": 177,
   "id": "4450ceb0",
   "metadata": {},
   "outputs": [],
   "source": [
    "count_values = bigrams.toarray().sum(axis=0)\n",
    "ngram_freq = pd.DataFrame(sorted([(count_values[i], k) for k, i in cv.vocabulary_.items()], reverse = True))\n",
    "ngram_freq.columns = [\"frequency\", \"ngram\"]\n"
   ]
  },
  {
   "cell_type": "code",
   "execution_count": 178,
   "id": "33aa2de8",
   "metadata": {},
   "outputs": [
    {
     "data": {
      "image/png": "[encoded data removed]",
      "text/plain": [
       "<Figure size 640x480 with 1 Axes>"
      ]
     },
     "metadata": {},
     "output_type": "display_data"
    }
   ],
   "source": [
    "sns.barplot(x=ngram_freq['frequency'][:10], y=ngram_freq['ngram'][:10])\n",
    "plt.title('Top 10 Most Frequently Occuring Bigrams')\n",
    "plt.show()"
   ]
  },
  {
   "cell_type": "markdown",
   "id": "7a7537fd",
   "metadata": {},
   "source": [
    "### Most Frequently occuring Trigrams\n"
   ]
  },
  {
   "cell_type": "code",
   "execution_count": 179,
   "id": "29ff52d9",
   "metadata": {},
   "outputs": [],
   "source": [
    "cv1 = CountVectorizer(ngram_range=(3,3))\n",
    "trigrams = cv1.fit_transform(df1['review_text'])\n",
    "count_values = trigrams.toarray().sum(axis=0)\n",
    "ngram_freq = pd.DataFrame(sorted([(count_values[i], k) for k, i in cv1.vocabulary_.items()], reverse = True))\n",
    "ngram_freq.columns = [\"frequency\", \"ngram\"]"
   ]
  },
  {
   "cell_type": "code",
   "execution_count": 180,
   "id": "b31d8e8e",
   "metadata": {},
   "outputs": [
    {
     "data": {
      "image/png": "[encoded data removed]",
      "text/plain": [
       "<Figure size 640x480 with 1 Axes>"
      ]
     },
     "metadata": {},
     "output_type": "display_data"
    }
   ],
   "source": [
    "sns.barplot(x=ngram_freq['frequency'][:10], y=ngram_freq['ngram'][:10])\n",
    "plt.title('Top 10 Most Frequently Occuring Trigrams')\n",
    "plt.show()"
   ]
  },
  {
   "cell_type": "markdown",
   "id": "ed2b3758",
   "metadata": {},
   "source": [
    "### Most common words for negative"
   ]
  },
  {
   "cell_type": "code",
   "execution_count": 186,
   "id": "4b796b7c",
   "metadata": {},
   "outputs": [
    {
     "name": "stdout",
     "output_type": "stream",
     "text": [
      "(261, 8)\n"
     ]
    },
    {
     "data": {
      "text/html": [
       "<div>\n",
       "<style scoped>\n",
       "    .dataframe tbody tr th:only-of-type {\n",
       "        vertical-align: middle;\n",
       "    }\n",
       "\n",
       "    .dataframe tbody tr th {\n",
       "        vertical-align: top;\n",
       "    }\n",
       "\n",
       "    .dataframe thead th {\n",
       "        text-align: right;\n",
       "    }\n",
       "</style>\n",
       "<table border=\"1\" class=\"dataframe\">\n",
       "  <thead>\n",
       "    <tr style=\"text-align: right;\">\n",
       "      <th></th>\n",
       "      <th>author</th>\n",
       "      <th>rating</th>\n",
       "      <th>review_text</th>\n",
       "      <th>date</th>\n",
       "      <th>rating_sentiment</th>\n",
       "      <th>Length</th>\n",
       "      <th>Word_Count</th>\n",
       "      <th>review_list</th>\n",
       "    </tr>\n",
       "  </thead>\n",
       "  <tbody>\n",
       "    <tr>\n",
       "      <th>10</th>\n",
       "      <td>iii iii</td>\n",
       "      <td>1</td>\n",
       "      <td>принесли плов холодным тому запах странный — и...</td>\n",
       "      <td>2025-04-13</td>\n",
       "      <td>Negative</td>\n",
       "      <td>76</td>\n",
       "      <td>11</td>\n",
       "      <td>[принесли, плов, холодным, тому, запах, странн...</td>\n",
       "    </tr>\n",
       "    <tr>\n",
       "      <th>44</th>\n",
       "      <td>алма кусаинова</td>\n",
       "      <td>2</td>\n",
       "      <td>очень уютно красиво внутри лагман вкусный мясо...</td>\n",
       "      <td>2025-04-09</td>\n",
       "      <td>Negative</td>\n",
       "      <td>78</td>\n",
       "      <td>12</td>\n",
       "      <td>[очень, уютно, красиво, внутри, лагман, вкусны...</td>\n",
       "    </tr>\n",
       "    <tr>\n",
       "      <th>55</th>\n",
       "      <td>zhaiyk seitkalyk</td>\n",
       "      <td>1</td>\n",
       "      <td>обслуживание өте төмен сағат 1800 ге броньдап ...</td>\n",
       "      <td>2025-04-06</td>\n",
       "      <td>Negative</td>\n",
       "      <td>501</td>\n",
       "      <td>74</td>\n",
       "      <td>[обслуживание, өте, төмен, сағат, 1800, ге, бр...</td>\n",
       "    </tr>\n",
       "    <tr>\n",
       "      <th>80</th>\n",
       "      <td>бахыт касымкызы</td>\n",
       "      <td>2</td>\n",
       "      <td>парковки</td>\n",
       "      <td>2025-04-13</td>\n",
       "      <td>Negative</td>\n",
       "      <td>8</td>\n",
       "      <td>1</td>\n",
       "      <td>[парковки]</td>\n",
       "    </tr>\n",
       "    <tr>\n",
       "      <th>105</th>\n",
       "      <td>ali kad</td>\n",
       "      <td>1</td>\n",
       "      <td>өмірі телефон көтермейді</td>\n",
       "      <td>2025-03-29</td>\n",
       "      <td>Negative</td>\n",
       "      <td>24</td>\n",
       "      <td>3</td>\n",
       "      <td>[өмірі, телефон, көтермейді]</td>\n",
       "    </tr>\n",
       "  </tbody>\n",
       "</table>\n",
       "</div>"
      ],
      "text/plain": [
       "               author  rating  \\\n",
       "10            iii iii       1   \n",
       "44     алма кусаинова       2   \n",
       "55   zhaiyk seitkalyk       1   \n",
       "80    бахыт касымкызы       2   \n",
       "105           ali kad       1   \n",
       "\n",
       "                                           review_text       date  \\\n",
       "10   принесли плов холодным тому запах странный — и... 2025-04-13   \n",
       "44   очень уютно красиво внутри лагман вкусный мясо... 2025-04-09   \n",
       "55   обслуживание өте төмен сағат 1800 ге броньдап ... 2025-04-06   \n",
       "80                                            парковки 2025-04-13   \n",
       "105                           өмірі телефон көтермейді 2025-03-29   \n",
       "\n",
       "    rating_sentiment  Length  Word_Count  \\\n",
       "10          Negative      76          11   \n",
       "44          Negative      78          12   \n",
       "55          Negative     501          74   \n",
       "80          Negative       8           1   \n",
       "105         Negative      24           3   \n",
       "\n",
       "                                           review_list  \n",
       "10   [принесли, плов, холодным, тому, запах, странн...  \n",
       "44   [очень, уютно, красиво, внутри, лагман, вкусны...  \n",
       "55   [обслуживание, өте, төмен, сағат, 1800, ге, бр...  \n",
       "80                                          [парковки]  \n",
       "105                       [өмірі, телефон, көтермейді]  "
      ]
     },
     "execution_count": 186,
     "metadata": {},
     "output_type": "execute_result"
    }
   ],
   "source": [
    "negative_df = df1[df1['rating_sentiment'] == 'Negative']\n",
    "print(negative_df.shape)\n",
    "negative_df.head()"
   ]
  },
  {
   "cell_type": "code",
   "execution_count": 188,
   "id": "2cc510b7",
   "metadata": {},
   "outputs": [
    {
     "name": "stderr",
     "output_type": "stream",
     "text": [
      "100%|\u001b[32m████████████████████████████████████████████████████████████████████████████████████████████████████████████\u001b[0m| 261/261 [00:00<00:00, 93079.95it/s]\u001b[0m\n"
     ]
    },
    {
     "data": {
      "text/plain": [
       "5632"
      ]
     },
     "execution_count": 188,
     "metadata": {},
     "output_type": "execute_result"
    }
   ],
   "source": [
    "neg_corpus = []\n",
    "for i in trange(negative_df.shape[0], ncols=150, nrows=10, colour='green', smoothing=0.8):\n",
    "    neg_corpus += negative_df['review_list'].iloc[i]\n",
    "len(neg_corpus)"
   ]
  },
  {
   "cell_type": "code",
   "execution_count": 189,
   "id": "9fcca7ac",
   "metadata": {},
   "outputs": [
    {
     "data": {
      "text/plain": [
       "[('обслуживание', 57),\n",
       " ('очень', 56),\n",
       " ('принесли', 50),\n",
       " ('это', 40),\n",
       " ('заказ', 39),\n",
       " ('минут', 34),\n",
       " ('лагман', 33),\n",
       " ('официанты', 31),\n",
       " ('ждали', 30),\n",
       " ('заказали', 30)]"
      ]
     },
     "execution_count": 189,
     "metadata": {},
     "output_type": "execute_result"
    }
   ],
   "source": [
    "mostCommon = Counter(neg_corpus).most_common(10)\n",
    "mostCommon"
   ]
  },
  {
   "cell_type": "markdown",
   "id": "2493a9a4",
   "metadata": {},
   "source": [
    "### Most freq negative bigrams"
   ]
  },
  {
   "cell_type": "code",
   "execution_count": 190,
   "id": "64f4b9ea",
   "metadata": {},
   "outputs": [
    {
     "data": {
      "image/png": "[encoded data removed]",
      "text/plain": [
       "<Figure size 640x480 with 1 Axes>"
      ]
     },
     "metadata": {},
     "output_type": "display_data"
    }
   ],
   "source": [
    "cv = CountVectorizer(ngram_range=(2, 2))\n",
    "bigrams = cv.fit_transform(negative_df['review_text'])\n",
    "\n",
    "count_values = bigrams.toarray().sum(axis=0)\n",
    "ngram_freq = pd.DataFrame(sorted([(count_values[i], k) for k, i in cv.vocabulary_.items()], reverse = True))\n",
    "ngram_freq.columns = [\"frequency\", \"ngram\"]\n",
    "\n",
    "sns.barplot(x=ngram_freq['frequency'][:10], y=ngram_freq['ngram'][:10])\n",
    "plt.title('Top 10 Most Frequently Occuring Negative Bigrams')\n",
    "plt.show()\n"
   ]
  },
  {
   "cell_type": "markdown",
   "id": "7c5e3a1c",
   "metadata": {},
   "source": [
    "### Most freq negative trigrams"
   ]
  },
  {
   "cell_type": "code",
   "execution_count": 191,
   "id": "17f410bc",
   "metadata": {},
   "outputs": [
    {
     "data": {
      "image/png": "[encoded data removed]",
      "text/plain": [
       "<Figure size 640x480 with 1 Axes>"
      ]
     },
     "metadata": {},
     "output_type": "display_data"
    }
   ],
   "source": [
    "cv1 = CountVectorizer(ngram_range=(3,3))\n",
    "trigrams = cv1.fit_transform(negative_df['review_text'])\n",
    "count_values = trigrams.toarray().sum(axis=0)\n",
    "ngram_freq = pd.DataFrame(sorted([(count_values[i], k) for k, i in cv1.vocabulary_.items()], reverse = True))\n",
    "ngram_freq.columns = [\"frequency\", \"ngram\"]\n",
    "\n",
    "sns.barplot(x=ngram_freq['frequency'][:10], y=ngram_freq['ngram'][:10])\n",
    "plt.title('Top 10 Most Frequently Occuring Trigrams')\n",
    "plt.show()"
   ]
  },
  {
   "cell_type": "code",
   "execution_count": null,
   "id": "48fe8b8c",
   "metadata": {},
   "outputs": [],
   "source": []
  }
 ],
 "metadata": {
  "kernelspec": {
   "display_name": "Python 3",
   "language": "python",
   "name": "python3"
  },
  "language_info": {
   "codemirror_mode": {
    "name": "ipython",
    "version": 3
   },
   "file_extension": ".py",
   "mimetype": "text/x-python",
   "name": "python",
   "nbconvert_exporter": "python",
   "pygments_lexer": "ipython3",
   "version": "3.11.4"
  }
 },
 "nbformat": 4,
 "nbformat_minor": 5
}
