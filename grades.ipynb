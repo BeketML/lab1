{
 "cells": [
  {
   "cell_type": "markdown",
   "id": "367f7369",
   "metadata": {},
   "source": [
    "# 1.0 Course grades"
   ]
  },
  {
   "cell_type": "code",
   "execution_count": 1,
   "id": "97d6102b",
   "metadata": {},
   "outputs": [],
   "source": [
    "import pandas as pd\n",
    "import numpy as np\n"
   ]
  },
  {
   "cell_type": "code",
   "execution_count": 2,
   "id": "f41fadfe",
   "metadata": {},
   "outputs": [],
   "source": [
    "transcripts_path = r\"C:\\Users\\ASUS\\Desktop\\AppliedNLP\\1_lab\\data\\transcript_courses.csv\""
   ]
  },
  {
   "cell_type": "code",
   "execution_count": 3,
   "id": "1c74be4e",
   "metadata": {},
   "outputs": [],
   "source": [
    "df = pd.read_csv(transcripts_path)"
   ]
  },
  {
   "cell_type": "code",
   "execution_count": 4,
   "id": "216c0e09",
   "metadata": {},
   "outputs": [
    {
     "data": {
      "text/plain": [
       "(31, 9)"
      ]
     },
     "execution_count": 4,
     "metadata": {},
     "output_type": "execute_result"
    }
   ],
   "source": [
    "df.shape"
   ]
  },
  {
   "cell_type": "code",
   "execution_count": 5,
   "id": "187735ef",
   "metadata": {},
   "outputs": [
    {
     "name": "stdout",
     "output_type": "stream",
     "text": [
      "<class 'pandas.core.frame.DataFrame'>\n",
      "RangeIndex: 31 entries, 0 to 30\n",
      "Data columns (total 9 columns):\n",
      " #   Column        Non-Null Count  Dtype  \n",
      "---  ------        --------------  -----  \n",
      " 0   Semester      31 non-null     object \n",
      " 1   Course Code   31 non-null     object \n",
      " 2   Course Title  31 non-null     object \n",
      " 3   Credit        31 non-null     int64  \n",
      " 4   ECTS          31 non-null     int64  \n",
      " 5   Grade         24 non-null     float64\n",
      " 6   Letter Grade  31 non-null     object \n",
      " 7   Point         22 non-null     float64\n",
      " 8   Traditional   31 non-null     object \n",
      "dtypes: float64(2), int64(2), object(5)\n",
      "memory usage: 2.3+ KB\n"
     ]
    }
   ],
   "source": [
    "df.info()"
   ]
  },
  {
   "cell_type": "code",
   "execution_count": 6,
   "id": "da54a329",
   "metadata": {},
   "outputs": [
    {
     "data": {
      "text/html": [
       "<div>\n",
       "<style scoped>\n",
       "    .dataframe tbody tr th:only-of-type {\n",
       "        vertical-align: middle;\n",
       "    }\n",
       "\n",
       "    .dataframe tbody tr th {\n",
       "        vertical-align: top;\n",
       "    }\n",
       "\n",
       "    .dataframe thead th {\n",
       "        text-align: right;\n",
       "    }\n",
       "</style>\n",
       "<table border=\"1\" class=\"dataframe\">\n",
       "  <thead>\n",
       "    <tr style=\"text-align: right;\">\n",
       "      <th></th>\n",
       "      <th>Semester</th>\n",
       "      <th>Course Code</th>\n",
       "      <th>Course Title</th>\n",
       "      <th>Credit</th>\n",
       "      <th>ECTS</th>\n",
       "      <th>Grade</th>\n",
       "      <th>Letter Grade</th>\n",
       "      <th>Point</th>\n",
       "      <th>Traditional</th>\n",
       "    </tr>\n",
       "  </thead>\n",
       "  <tbody>\n",
       "    <tr>\n",
       "      <th>0</th>\n",
       "      <td>2023 - 2024. 1</td>\n",
       "      <td>MAT 106</td>\n",
       "      <td>Information and Communication Technologies (in...</td>\n",
       "      <td>3</td>\n",
       "      <td>5</td>\n",
       "      <td>73.0</td>\n",
       "      <td>C+</td>\n",
       "      <td>2.33</td>\n",
       "      <td>Good</td>\n",
       "    </tr>\n",
       "    <tr>\n",
       "      <th>1</th>\n",
       "      <td>2023 - 2024. 1</td>\n",
       "      <td>MAT 123</td>\n",
       "      <td>Linear Algebra</td>\n",
       "      <td>4</td>\n",
       "      <td>5</td>\n",
       "      <td>86.0</td>\n",
       "      <td>B+</td>\n",
       "      <td>3.33</td>\n",
       "      <td>Good</td>\n",
       "    </tr>\n",
       "    <tr>\n",
       "      <th>2</th>\n",
       "      <td>2023 - 2024. 1</td>\n",
       "      <td>MCM 103</td>\n",
       "      <td>Calculus 1</td>\n",
       "      <td>4</td>\n",
       "      <td>5</td>\n",
       "      <td>56.0</td>\n",
       "      <td>D+</td>\n",
       "      <td>1.33</td>\n",
       "      <td>Satisfactory</td>\n",
       "    </tr>\n",
       "    <tr>\n",
       "      <th>3</th>\n",
       "      <td>2023 - 2024. 1</td>\n",
       "      <td>MDE 131</td>\n",
       "      <td>Turkish Language 1 (А1 level)</td>\n",
       "      <td>2</td>\n",
       "      <td>3</td>\n",
       "      <td>88.0</td>\n",
       "      <td>B+</td>\n",
       "      <td>3.33</td>\n",
       "      <td>Good</td>\n",
       "    </tr>\n",
       "    <tr>\n",
       "      <th>4</th>\n",
       "      <td>2023 - 2024. 1</td>\n",
       "      <td>MDE 160</td>\n",
       "      <td>Community engagement and value based Society 1</td>\n",
       "      <td>1</td>\n",
       "      <td>0</td>\n",
       "      <td>94.0</td>\n",
       "      <td>P</td>\n",
       "      <td>NaN</td>\n",
       "      <td>Pass</td>\n",
       "    </tr>\n",
       "  </tbody>\n",
       "</table>\n",
       "</div>"
      ],
      "text/plain": [
       "         Semester Course Code  \\\n",
       "0  2023 - 2024. 1     MAT 106   \n",
       "1  2023 - 2024. 1     MAT 123   \n",
       "2  2023 - 2024. 1     MCM 103   \n",
       "3  2023 - 2024. 1     MDE 131   \n",
       "4  2023 - 2024. 1     MDE 160   \n",
       "\n",
       "                                        Course Title  Credit  ECTS  Grade  \\\n",
       "0  Information and Communication Technologies (in...       3     5   73.0   \n",
       "1                                     Linear Algebra       4     5   86.0   \n",
       "2                                         Calculus 1       4     5   56.0   \n",
       "3                      Turkish Language 1 (А1 level)       2     3   88.0   \n",
       "4     Community engagement and value based Society 1       1     0   94.0   \n",
       "\n",
       "  Letter Grade  Point   Traditional  \n",
       "0           C+   2.33          Good  \n",
       "1           B+   3.33          Good  \n",
       "2           D+   1.33  Satisfactory  \n",
       "3           B+   3.33          Good  \n",
       "4            P    NaN          Pass  "
      ]
     },
     "execution_count": 6,
     "metadata": {},
     "output_type": "execute_result"
    }
   ],
   "source": [
    "df.head(5)"
   ]
  },
  {
   "cell_type": "code",
   "execution_count": 7,
   "id": "b6485dfe",
   "metadata": {},
   "outputs": [
    {
     "data": {
      "text/plain": [
       "Semester        0\n",
       "Course Code     0\n",
       "Course Title    0\n",
       "Credit          0\n",
       "ECTS            0\n",
       "Grade           7\n",
       "Letter Grade    0\n",
       "Point           9\n",
       "Traditional     0\n",
       "dtype: int64"
      ]
     },
     "execution_count": 7,
     "metadata": {},
     "output_type": "execute_result"
    }
   ],
   "source": [
    "df.isna().sum()"
   ]
  },
  {
   "cell_type": "markdown",
   "id": "0a90dd99",
   "metadata": {},
   "source": [
    "### Most of the NaN grades are from current semester"
   ]
  },
  {
   "cell_type": "code",
   "execution_count": 8,
   "id": "31170467",
   "metadata": {},
   "outputs": [
    {
     "name": "stdout",
     "output_type": "stream",
     "text": [
      "9\n"
     ]
    },
    {
     "data": {
      "text/html": [
       "<div>\n",
       "<style scoped>\n",
       "    .dataframe tbody tr th:only-of-type {\n",
       "        vertical-align: middle;\n",
       "    }\n",
       "\n",
       "    .dataframe tbody tr th {\n",
       "        vertical-align: top;\n",
       "    }\n",
       "\n",
       "    .dataframe thead th {\n",
       "        text-align: right;\n",
       "    }\n",
       "</style>\n",
       "<table border=\"1\" class=\"dataframe\">\n",
       "  <thead>\n",
       "    <tr style=\"text-align: right;\">\n",
       "      <th></th>\n",
       "      <th>Semester</th>\n",
       "      <th>Course Code</th>\n",
       "      <th>Course Title</th>\n",
       "      <th>Credit</th>\n",
       "      <th>ECTS</th>\n",
       "      <th>Grade</th>\n",
       "      <th>Letter Grade</th>\n",
       "      <th>Point</th>\n",
       "      <th>Traditional</th>\n",
       "    </tr>\n",
       "  </thead>\n",
       "  <tbody>\n",
       "    <tr>\n",
       "      <th>4</th>\n",
       "      <td>2023 - 2024. 1</td>\n",
       "      <td>MDE 160</td>\n",
       "      <td>Community engagement and value based Society 1</td>\n",
       "      <td>1</td>\n",
       "      <td>0</td>\n",
       "      <td>94.0</td>\n",
       "      <td>P</td>\n",
       "      <td>NaN</td>\n",
       "      <td>Pass</td>\n",
       "    </tr>\n",
       "    <tr>\n",
       "      <th>13</th>\n",
       "      <td>2023 - 2024. 2</td>\n",
       "      <td>MDE 170</td>\n",
       "      <td>Community engagement and value based Society 2</td>\n",
       "      <td>1</td>\n",
       "      <td>0</td>\n",
       "      <td>93.0</td>\n",
       "      <td>P</td>\n",
       "      <td>NaN</td>\n",
       "      <td>Pass</td>\n",
       "    </tr>\n",
       "    <tr>\n",
       "      <th>24</th>\n",
       "      <td>2024 - 2025. 2</td>\n",
       "      <td>INF 202</td>\n",
       "      <td>Database Management Systems 1</td>\n",
       "      <td>3</td>\n",
       "      <td>5</td>\n",
       "      <td>NaN</td>\n",
       "      <td>IP</td>\n",
       "      <td>NaN</td>\n",
       "      <td>In progress</td>\n",
       "    </tr>\n",
       "    <tr>\n",
       "      <th>25</th>\n",
       "      <td>2024 - 2025. 2</td>\n",
       "      <td>INF 207</td>\n",
       "      <td>Introduction to Business for IT</td>\n",
       "      <td>3</td>\n",
       "      <td>5</td>\n",
       "      <td>NaN</td>\n",
       "      <td>IP</td>\n",
       "      <td>NaN</td>\n",
       "      <td>In progress</td>\n",
       "    </tr>\n",
       "    <tr>\n",
       "      <th>26</th>\n",
       "      <td>2024 - 2025. 2</td>\n",
       "      <td>INF 313</td>\n",
       "      <td>Computer networks 1</td>\n",
       "      <td>3</td>\n",
       "      <td>5</td>\n",
       "      <td>NaN</td>\n",
       "      <td>IP</td>\n",
       "      <td>NaN</td>\n",
       "      <td>In progress</td>\n",
       "    </tr>\n",
       "  </tbody>\n",
       "</table>\n",
       "</div>"
      ],
      "text/plain": [
       "          Semester Course Code  \\\n",
       "4   2023 - 2024. 1     MDE 160   \n",
       "13  2023 - 2024. 2     MDE 170   \n",
       "24  2024 - 2025. 2     INF 202   \n",
       "25  2024 - 2025. 2     INF 207   \n",
       "26  2024 - 2025. 2     INF 313   \n",
       "\n",
       "                                      Course Title  Credit  ECTS  Grade  \\\n",
       "4   Community engagement and value based Society 1       1     0   94.0   \n",
       "13  Community engagement and value based Society 2       1     0   93.0   \n",
       "24                   Database Management Systems 1       3     5    NaN   \n",
       "25                 Introduction to Business for IT       3     5    NaN   \n",
       "26                             Computer networks 1       3     5    NaN   \n",
       "\n",
       "   Letter Grade  Point  Traditional  \n",
       "4             P    NaN         Pass  \n",
       "13            P    NaN         Pass  \n",
       "24           IP    NaN  In progress  \n",
       "25           IP    NaN  In progress  \n",
       "26           IP    NaN  In progress  "
      ]
     },
     "execution_count": 8,
     "metadata": {},
     "output_type": "execute_result"
    }
   ],
   "source": [
    "df1_nan = df[df['Point'].isna()]\n",
    "print(df1_nan.shape[0])\n",
    "df1_nan.head(5)"
   ]
  }
 ],
 "metadata": {
  "kernelspec": {
   "display_name": "venv",
   "language": "python",
   "name": "python3"
  },
  "language_info": {
   "codemirror_mode": {
    "name": "ipython",
    "version": 3
   },
   "file_extension": ".py",
   "mimetype": "text/x-python",
   "name": "python",
   "nbconvert_exporter": "python",
   "pygments_lexer": "ipython3",
   "version": "3.11.4"
  }
 },
 "nbformat": 4,
 "nbformat_minor": 5
}
